{
 "cells": [
  {
   "cell_type": "markdown",
   "id": "61f34e69",
   "metadata": {},
   "source": [
    "# Lab Assignment 4 -- Data and Pandas\n",
    "In this lab, you will complete a series of exercises related to the lecture material on data and Pandas using some real datasets. Each exercise will focus around a single dataset and contain multiple steps. "
   ]
  },
  {
   "cell_type": "code",
   "execution_count": 59,
   "id": "b004e6da",
   "metadata": {},
   "outputs": [],
   "source": [
    "# We import the libraries you will need\n",
    "import math\n",
    "import numpy as np\n",
    "import pandas as pd"
   ]
  },
  {
   "cell_type": "markdown",
   "id": "91a79149",
   "metadata": {},
   "source": [
    "## Exercise 1 -- Unemployment Data\n",
    "Below, we load in data on Unemployment in the United States at the State level."
   ]
  },
  {
   "cell_type": "code",
   "execution_count": 2,
   "id": "77e4deeb",
   "metadata": {},
   "outputs": [],
   "source": [
    "# Do Not Edit\n",
    "url = \"https://datascience.quantecon.org/assets/data/state_unemployment.csv\"\n",
    "unemp = pd.read_csv(url, parse_dates=[\"Date\"])"
   ]
  },
  {
   "cell_type": "markdown",
   "id": "9c01d47d",
   "metadata": {},
   "source": [
    "## Exercise 1a -- Displaying Data\n",
    "Complete the following steps:\n",
    "- In two cells below, display the top 7 rows  and the bottom 3 rows of `unemp`. \n",
    "- In the third cell, change `unemp` so its column names are strictly lowercase\n",
    "- Display the resulting DataFrame by calling `unemp` at the bottomg of the third cell.\n",
    "\n",
    "From a \"tidy\" perspective, what is an observation in this data? Explain why. Answer in the Markdown cell below."
   ]
  },
  {
   "cell_type": "code",
   "execution_count": 3,
   "id": "f40b3c25",
   "metadata": {},
   "outputs": [
    {
     "data": {
      "text/html": [
       "<div>\n",
       "<style scoped>\n",
       "    .dataframe tbody tr th:only-of-type {\n",
       "        vertical-align: middle;\n",
       "    }\n",
       "\n",
       "    .dataframe tbody tr th {\n",
       "        vertical-align: top;\n",
       "    }\n",
       "\n",
       "    .dataframe thead th {\n",
       "        text-align: right;\n",
       "    }\n",
       "</style>\n",
       "<table border=\"1\" class=\"dataframe\">\n",
       "  <thead>\n",
       "    <tr style=\"text-align: right;\">\n",
       "      <th></th>\n",
       "      <th>Date</th>\n",
       "      <th>state</th>\n",
       "      <th>LaborForce</th>\n",
       "      <th>UnemploymentRate</th>\n",
       "    </tr>\n",
       "  </thead>\n",
       "  <tbody>\n",
       "    <tr>\n",
       "      <th>0</th>\n",
       "      <td>2000-01-01</td>\n",
       "      <td>Alabama</td>\n",
       "      <td>2142945.0</td>\n",
       "      <td>4.7</td>\n",
       "    </tr>\n",
       "    <tr>\n",
       "      <th>1</th>\n",
       "      <td>2000-01-01</td>\n",
       "      <td>Alaska</td>\n",
       "      <td>319059.0</td>\n",
       "      <td>6.3</td>\n",
       "    </tr>\n",
       "    <tr>\n",
       "      <th>2</th>\n",
       "      <td>2000-01-01</td>\n",
       "      <td>Arizona</td>\n",
       "      <td>2499980.0</td>\n",
       "      <td>4.1</td>\n",
       "    </tr>\n",
       "    <tr>\n",
       "      <th>3</th>\n",
       "      <td>2000-01-01</td>\n",
       "      <td>Arkansas</td>\n",
       "      <td>1264619.0</td>\n",
       "      <td>4.4</td>\n",
       "    </tr>\n",
       "    <tr>\n",
       "      <th>4</th>\n",
       "      <td>2000-01-01</td>\n",
       "      <td>California</td>\n",
       "      <td>16680246.0</td>\n",
       "      <td>5.0</td>\n",
       "    </tr>\n",
       "    <tr>\n",
       "      <th>5</th>\n",
       "      <td>2000-01-01</td>\n",
       "      <td>Colorado</td>\n",
       "      <td>2354671.0</td>\n",
       "      <td>2.8</td>\n",
       "    </tr>\n",
       "    <tr>\n",
       "      <th>6</th>\n",
       "      <td>2000-01-01</td>\n",
       "      <td>Connecticut</td>\n",
       "      <td>1768421.0</td>\n",
       "      <td>2.8</td>\n",
       "    </tr>\n",
       "  </tbody>\n",
       "</table>\n",
       "</div>"
      ],
      "text/plain": [
       "        Date        state  LaborForce  UnemploymentRate\n",
       "0 2000-01-01      Alabama   2142945.0               4.7\n",
       "1 2000-01-01       Alaska    319059.0               6.3\n",
       "2 2000-01-01      Arizona   2499980.0               4.1\n",
       "3 2000-01-01     Arkansas   1264619.0               4.4\n",
       "4 2000-01-01   California  16680246.0               5.0\n",
       "5 2000-01-01     Colorado   2354671.0               2.8\n",
       "6 2000-01-01  Connecticut   1768421.0               2.8"
      ]
     },
     "execution_count": 3,
     "metadata": {},
     "output_type": "execute_result"
    }
   ],
   "source": [
    "## Exercise 1a -- Top 7\n",
    "unemp.head(7)"
   ]
  },
  {
   "cell_type": "code",
   "execution_count": 4,
   "id": "a8d6da9a",
   "metadata": {
    "scrolled": true
   },
   "outputs": [
    {
     "data": {
      "text/html": [
       "<div>\n",
       "<style scoped>\n",
       "    .dataframe tbody tr th:only-of-type {\n",
       "        vertical-align: middle;\n",
       "    }\n",
       "\n",
       "    .dataframe tbody tr th {\n",
       "        vertical-align: top;\n",
       "    }\n",
       "\n",
       "    .dataframe thead th {\n",
       "        text-align: right;\n",
       "    }\n",
       "</style>\n",
       "<table border=\"1\" class=\"dataframe\">\n",
       "  <thead>\n",
       "    <tr style=\"text-align: right;\">\n",
       "      <th></th>\n",
       "      <th>Date</th>\n",
       "      <th>state</th>\n",
       "      <th>LaborForce</th>\n",
       "      <th>UnemploymentRate</th>\n",
       "    </tr>\n",
       "  </thead>\n",
       "  <tbody>\n",
       "    <tr>\n",
       "      <th>10797</th>\n",
       "      <td>2017-12-01</td>\n",
       "      <td>West Virginia</td>\n",
       "      <td>781852.0</td>\n",
       "      <td>5.4</td>\n",
       "    </tr>\n",
       "    <tr>\n",
       "      <th>10798</th>\n",
       "      <td>2017-12-01</td>\n",
       "      <td>Wisconsin</td>\n",
       "      <td>3158257.0</td>\n",
       "      <td>3.2</td>\n",
       "    </tr>\n",
       "    <tr>\n",
       "      <th>10799</th>\n",
       "      <td>2017-12-01</td>\n",
       "      <td>Wyoming</td>\n",
       "      <td>292305.0</td>\n",
       "      <td>4.1</td>\n",
       "    </tr>\n",
       "  </tbody>\n",
       "</table>\n",
       "</div>"
      ],
      "text/plain": [
       "            Date          state  LaborForce  UnemploymentRate\n",
       "10797 2017-12-01  West Virginia    781852.0               5.4\n",
       "10798 2017-12-01      Wisconsin   3158257.0               3.2\n",
       "10799 2017-12-01        Wyoming    292305.0               4.1"
      ]
     },
     "execution_count": 4,
     "metadata": {},
     "output_type": "execute_result"
    }
   ],
   "source": [
    "## Exercise 1a -- Bottom 3\n",
    "unemp.tail(3)"
   ]
  },
  {
   "cell_type": "code",
   "execution_count": 5,
   "id": "7ec83638",
   "metadata": {
    "scrolled": true
   },
   "outputs": [
    {
     "data": {
      "text/html": [
       "<div>\n",
       "<style scoped>\n",
       "    .dataframe tbody tr th:only-of-type {\n",
       "        vertical-align: middle;\n",
       "    }\n",
       "\n",
       "    .dataframe tbody tr th {\n",
       "        vertical-align: top;\n",
       "    }\n",
       "\n",
       "    .dataframe thead th {\n",
       "        text-align: right;\n",
       "    }\n",
       "</style>\n",
       "<table border=\"1\" class=\"dataframe\">\n",
       "  <thead>\n",
       "    <tr style=\"text-align: right;\">\n",
       "      <th></th>\n",
       "      <th>date</th>\n",
       "      <th>state</th>\n",
       "      <th>laborforce</th>\n",
       "      <th>unemploymentrate</th>\n",
       "    </tr>\n",
       "  </thead>\n",
       "  <tbody>\n",
       "    <tr>\n",
       "      <th>0</th>\n",
       "      <td>2000-01-01</td>\n",
       "      <td>Alabama</td>\n",
       "      <td>2142945.0</td>\n",
       "      <td>4.7</td>\n",
       "    </tr>\n",
       "    <tr>\n",
       "      <th>1</th>\n",
       "      <td>2000-01-01</td>\n",
       "      <td>Alaska</td>\n",
       "      <td>319059.0</td>\n",
       "      <td>6.3</td>\n",
       "    </tr>\n",
       "    <tr>\n",
       "      <th>2</th>\n",
       "      <td>2000-01-01</td>\n",
       "      <td>Arizona</td>\n",
       "      <td>2499980.0</td>\n",
       "      <td>4.1</td>\n",
       "    </tr>\n",
       "  </tbody>\n",
       "</table>\n",
       "</div>"
      ],
      "text/plain": [
       "        date    state  laborforce  unemploymentrate\n",
       "0 2000-01-01  Alabama   2142945.0               4.7\n",
       "1 2000-01-01   Alaska    319059.0               6.3\n",
       "2 2000-01-01  Arizona   2499980.0               4.1"
      ]
     },
     "execution_count": 5,
     "metadata": {},
     "output_type": "execute_result"
    }
   ],
   "source": [
    "# Exercise 1a -- Rename Columns\n",
    "names={'Date':'date',\n",
    "         'state':'state',\n",
    "         'LaborForce':'laborforce',\n",
    "         'UnemploymentRate':'unemploymentrate'\n",
    "        }\n",
    "unemp=unemp.rename(columns=names)\n",
    "unemp.head(3)"
   ]
  },
  {
   "cell_type": "markdown",
   "id": "53957b16",
   "metadata": {},
   "source": [
    "### Response to Exercise 1a"
   ]
  },
  {
   "cell_type": "markdown",
   "id": "7517e89e",
   "metadata": {},
   "source": [
    "## Exercise 1b -- Creating Variables & Index Setting\n",
    "Complete the following steps:\n",
    "- Create a column in `unemp` called \"year\" that is equal to the year of the date. \n",
    "- Change the index of `unemp` so that the index (or indices) reflect the observational units. \n",
    "- Display the indices.  \n",
    "\n",
    "In the Markdown cell below, address the following prompts:\n",
    "1. How many indices are there?\n",
    "2. Why are there this many indices? Write an equation that explains it.\n",
    "3. Is one of your indices a `DateTimeIndex` object?"
   ]
  },
  {
   "cell_type": "code",
   "execution_count": 6,
   "id": "aeaf7d53",
   "metadata": {
    "scrolled": true
   },
   "outputs": [
    {
     "data": {
      "text/html": [
       "<div>\n",
       "<style scoped>\n",
       "    .dataframe tbody tr th:only-of-type {\n",
       "        vertical-align: middle;\n",
       "    }\n",
       "\n",
       "    .dataframe tbody tr th {\n",
       "        vertical-align: top;\n",
       "    }\n",
       "\n",
       "    .dataframe thead th {\n",
       "        text-align: right;\n",
       "    }\n",
       "</style>\n",
       "<table border=\"1\" class=\"dataframe\">\n",
       "  <thead>\n",
       "    <tr style=\"text-align: right;\">\n",
       "      <th></th>\n",
       "      <th></th>\n",
       "      <th>laborforce</th>\n",
       "      <th>unemploymentrate</th>\n",
       "      <th>year</th>\n",
       "    </tr>\n",
       "    <tr>\n",
       "      <th>state</th>\n",
       "      <th>date</th>\n",
       "      <th></th>\n",
       "      <th></th>\n",
       "      <th></th>\n",
       "    </tr>\n",
       "  </thead>\n",
       "  <tbody>\n",
       "    <tr>\n",
       "      <th>Alabama</th>\n",
       "      <th>2000-01-01</th>\n",
       "      <td>2142945.0</td>\n",
       "      <td>4.7</td>\n",
       "      <td>2000</td>\n",
       "    </tr>\n",
       "    <tr>\n",
       "      <th>Alaska</th>\n",
       "      <th>2000-01-01</th>\n",
       "      <td>319059.0</td>\n",
       "      <td>6.3</td>\n",
       "      <td>2000</td>\n",
       "    </tr>\n",
       "    <tr>\n",
       "      <th>Arizona</th>\n",
       "      <th>2000-01-01</th>\n",
       "      <td>2499980.0</td>\n",
       "      <td>4.1</td>\n",
       "      <td>2000</td>\n",
       "    </tr>\n",
       "    <tr>\n",
       "      <th>Arkansas</th>\n",
       "      <th>2000-01-01</th>\n",
       "      <td>1264619.0</td>\n",
       "      <td>4.4</td>\n",
       "      <td>2000</td>\n",
       "    </tr>\n",
       "    <tr>\n",
       "      <th>California</th>\n",
       "      <th>2000-01-01</th>\n",
       "      <td>16680246.0</td>\n",
       "      <td>5.0</td>\n",
       "      <td>2000</td>\n",
       "    </tr>\n",
       "    <tr>\n",
       "      <th>Colorado</th>\n",
       "      <th>2000-01-01</th>\n",
       "      <td>2354671.0</td>\n",
       "      <td>2.8</td>\n",
       "      <td>2000</td>\n",
       "    </tr>\n",
       "    <tr>\n",
       "      <th>Connecticut</th>\n",
       "      <th>2000-01-01</th>\n",
       "      <td>1768421.0</td>\n",
       "      <td>2.8</td>\n",
       "      <td>2000</td>\n",
       "    </tr>\n",
       "    <tr>\n",
       "      <th>Delaware</th>\n",
       "      <th>2000-01-01</th>\n",
       "      <td>405052.0</td>\n",
       "      <td>3.5</td>\n",
       "      <td>2000</td>\n",
       "    </tr>\n",
       "    <tr>\n",
       "      <th>Florida</th>\n",
       "      <th>2000-01-01</th>\n",
       "      <td>7766891.0</td>\n",
       "      <td>3.7</td>\n",
       "      <td>2000</td>\n",
       "    </tr>\n",
       "    <tr>\n",
       "      <th>Georgia</th>\n",
       "      <th>2000-01-01</th>\n",
       "      <td>4198288.0</td>\n",
       "      <td>3.7</td>\n",
       "      <td>2000</td>\n",
       "    </tr>\n",
       "  </tbody>\n",
       "</table>\n",
       "</div>"
      ],
      "text/plain": [
       "                        laborforce  unemploymentrate  year\n",
       "state       date                                          \n",
       "Alabama     2000-01-01   2142945.0               4.7  2000\n",
       "Alaska      2000-01-01    319059.0               6.3  2000\n",
       "Arizona     2000-01-01   2499980.0               4.1  2000\n",
       "Arkansas    2000-01-01   1264619.0               4.4  2000\n",
       "California  2000-01-01  16680246.0               5.0  2000\n",
       "Colorado    2000-01-01   2354671.0               2.8  2000\n",
       "Connecticut 2000-01-01   1768421.0               2.8  2000\n",
       "Delaware    2000-01-01    405052.0               3.5  2000\n",
       "Florida     2000-01-01   7766891.0               3.7  2000\n",
       "Georgia     2000-01-01   4198288.0               3.7  2000"
      ]
     },
     "metadata": {},
     "output_type": "display_data"
    },
    {
     "data": {
      "text/html": [
       "<div>\n",
       "<style scoped>\n",
       "    .dataframe tbody tr th:only-of-type {\n",
       "        vertical-align: middle;\n",
       "    }\n",
       "\n",
       "    .dataframe tbody tr th {\n",
       "        vertical-align: top;\n",
       "    }\n",
       "\n",
       "    .dataframe thead th {\n",
       "        text-align: right;\n",
       "    }\n",
       "</style>\n",
       "<table border=\"1\" class=\"dataframe\">\n",
       "  <thead>\n",
       "    <tr style=\"text-align: right;\">\n",
       "      <th></th>\n",
       "      <th></th>\n",
       "      <th>laborforce</th>\n",
       "      <th>unemploymentrate</th>\n",
       "      <th>year</th>\n",
       "    </tr>\n",
       "    <tr>\n",
       "      <th>state</th>\n",
       "      <th>date</th>\n",
       "      <th></th>\n",
       "      <th></th>\n",
       "      <th></th>\n",
       "    </tr>\n",
       "  </thead>\n",
       "  <tbody>\n",
       "    <tr>\n",
       "      <th>South Dakota</th>\n",
       "      <th>2017-12-01</th>\n",
       "      <td>456271.0</td>\n",
       "      <td>3.4</td>\n",
       "      <td>2017</td>\n",
       "    </tr>\n",
       "    <tr>\n",
       "      <th>Tennessee</th>\n",
       "      <th>2017-12-01</th>\n",
       "      <td>3218569.0</td>\n",
       "      <td>3.3</td>\n",
       "      <td>2017</td>\n",
       "    </tr>\n",
       "    <tr>\n",
       "      <th>Texas</th>\n",
       "      <th>2017-12-01</th>\n",
       "      <td>13591013.0</td>\n",
       "      <td>4.0</td>\n",
       "      <td>2017</td>\n",
       "    </tr>\n",
       "    <tr>\n",
       "      <th>Utah</th>\n",
       "      <th>2017-12-01</th>\n",
       "      <td>1573889.0</td>\n",
       "      <td>3.2</td>\n",
       "      <td>2017</td>\n",
       "    </tr>\n",
       "    <tr>\n",
       "      <th>Vermont</th>\n",
       "      <th>2017-12-01</th>\n",
       "      <td>344870.0</td>\n",
       "      <td>2.9</td>\n",
       "      <td>2017</td>\n",
       "    </tr>\n",
       "    <tr>\n",
       "      <th>Virginia</th>\n",
       "      <th>2017-12-01</th>\n",
       "      <td>4318483.0</td>\n",
       "      <td>3.6</td>\n",
       "      <td>2017</td>\n",
       "    </tr>\n",
       "    <tr>\n",
       "      <th>Washington</th>\n",
       "      <th>2017-12-01</th>\n",
       "      <td>3754871.0</td>\n",
       "      <td>4.7</td>\n",
       "      <td>2017</td>\n",
       "    </tr>\n",
       "    <tr>\n",
       "      <th>West Virginia</th>\n",
       "      <th>2017-12-01</th>\n",
       "      <td>781852.0</td>\n",
       "      <td>5.4</td>\n",
       "      <td>2017</td>\n",
       "    </tr>\n",
       "    <tr>\n",
       "      <th>Wisconsin</th>\n",
       "      <th>2017-12-01</th>\n",
       "      <td>3158257.0</td>\n",
       "      <td>3.2</td>\n",
       "      <td>2017</td>\n",
       "    </tr>\n",
       "    <tr>\n",
       "      <th>Wyoming</th>\n",
       "      <th>2017-12-01</th>\n",
       "      <td>292305.0</td>\n",
       "      <td>4.1</td>\n",
       "      <td>2017</td>\n",
       "    </tr>\n",
       "  </tbody>\n",
       "</table>\n",
       "</div>"
      ],
      "text/plain": [
       "                          laborforce  unemploymentrate  year\n",
       "state         date                                          \n",
       "South Dakota  2017-12-01    456271.0               3.4  2017\n",
       "Tennessee     2017-12-01   3218569.0               3.3  2017\n",
       "Texas         2017-12-01  13591013.0               4.0  2017\n",
       "Utah          2017-12-01   1573889.0               3.2  2017\n",
       "Vermont       2017-12-01    344870.0               2.9  2017\n",
       "Virginia      2017-12-01   4318483.0               3.6  2017\n",
       "Washington    2017-12-01   3754871.0               4.7  2017\n",
       "West Virginia 2017-12-01    781852.0               5.4  2017\n",
       "Wisconsin     2017-12-01   3158257.0               3.2  2017\n",
       "Wyoming       2017-12-01    292305.0               4.1  2017"
      ]
     },
     "metadata": {},
     "output_type": "display_data"
    }
   ],
   "source": [
    "# Exercise 1b Code\n",
    "unemp['date']=pd.to_datetime(unemp['date'])\n",
    "unemp['year']=unemp['date'].dt.year\n",
    "unemp.set_index(['state','date'],inplace = True)\n",
    "display(unemp.head(10))\n",
    "display(unemp.tail(10))"
   ]
  },
  {
   "cell_type": "markdown",
   "id": "ff0aa8fe",
   "metadata": {},
   "source": [
    "### Response to Exercise 1b"
   ]
  },
  {
   "cell_type": "markdown",
   "id": "8037848f",
   "metadata": {},
   "source": [
    "### Exercise 1c -- Plotting Annual Averages\n",
    "Complete the following steps:\n",
    "1. Using `tiny_unemp`, find the year-state average of the unemployment rate and save it to `yearly_state_unemp`.\n",
    "2. Reshape `yearly_state_unemp` by using `unstack()`. Ensure that your row indices are years and your column variables are states.  \n",
    "3. Display `yearly_state_unemp` by making it the last line in the cell.\n",
    "4. Note that the `unemploymentrate` level is not very useful because all of the numbers are unemployment rates. Let's remove it by using `.droplevel()` on `yearly_state_unemp`. Call this new DataFrame `clean_state_unemp` You may want to reference the [documentation](https://pandas.pydata.org/docs/reference/api/pandas.DataFrame.droplevel.html) to see which argument you will need. \n",
    "5. Use the `.plot()` method on `clean_state_unemp`.\n",
    "6. In the next cell, use the `.plot()` method on `yearly_state_unemp`.\n",
    "\n",
    "In the Markdown cell below **answer the following questions**: \n",
    "1. What is the most salient real world phenomenon that is visible in the plot?\n",
    "2. Compare the two plots. How did removing the `unemploymentrate` level change the plot?\n",
    "\n",
    "**Hints**\n",
    "- You can use `df.drop()` ([documentation here](https://pandas.pydata.org/docs/reference/api/pandas.DataFrame.drop.html))  to get rid of the `laborforce` column when creating `yearly_state_unemp`."
   ]
  },
  {
   "cell_type": "code",
   "execution_count": 7,
   "id": "a8819ab2",
   "metadata": {},
   "outputs": [
    {
     "data": {
      "text/html": [
       "<div>\n",
       "<style scoped>\n",
       "    .dataframe tbody tr th:only-of-type {\n",
       "        vertical-align: middle;\n",
       "    }\n",
       "\n",
       "    .dataframe tbody tr th {\n",
       "        vertical-align: top;\n",
       "    }\n",
       "\n",
       "    .dataframe thead th {\n",
       "        text-align: right;\n",
       "    }\n",
       "</style>\n",
       "<table border=\"1\" class=\"dataframe\">\n",
       "  <thead>\n",
       "    <tr style=\"text-align: right;\">\n",
       "      <th></th>\n",
       "      <th></th>\n",
       "      <th>laborforce</th>\n",
       "      <th>unemploymentrate</th>\n",
       "      <th>year</th>\n",
       "    </tr>\n",
       "    <tr>\n",
       "      <th>state</th>\n",
       "      <th>date</th>\n",
       "      <th></th>\n",
       "      <th></th>\n",
       "      <th></th>\n",
       "    </tr>\n",
       "  </thead>\n",
       "  <tbody>\n",
       "    <tr>\n",
       "      <th rowspan=\"5\" valign=\"top\">Colorado</th>\n",
       "      <th>2000-01-01</th>\n",
       "      <td>2354671.0</td>\n",
       "      <td>2.8</td>\n",
       "      <td>2000</td>\n",
       "    </tr>\n",
       "    <tr>\n",
       "      <th>2000-02-01</th>\n",
       "      <td>2356780.0</td>\n",
       "      <td>2.8</td>\n",
       "      <td>2000</td>\n",
       "    </tr>\n",
       "    <tr>\n",
       "      <th>2000-03-01</th>\n",
       "      <td>2357991.0</td>\n",
       "      <td>2.7</td>\n",
       "      <td>2000</td>\n",
       "    </tr>\n",
       "    <tr>\n",
       "      <th>2000-04-01</th>\n",
       "      <td>2358321.0</td>\n",
       "      <td>2.7</td>\n",
       "      <td>2000</td>\n",
       "    </tr>\n",
       "    <tr>\n",
       "      <th>2000-05-01</th>\n",
       "      <td>2357978.0</td>\n",
       "      <td>2.7</td>\n",
       "      <td>2000</td>\n",
       "    </tr>\n",
       "    <tr>\n",
       "      <th>...</th>\n",
       "      <th>...</th>\n",
       "      <td>...</td>\n",
       "      <td>...</td>\n",
       "      <td>...</td>\n",
       "    </tr>\n",
       "    <tr>\n",
       "      <th rowspan=\"5\" valign=\"top\">Florida</th>\n",
       "      <th>2017-08-01</th>\n",
       "      <td>10123142.0</td>\n",
       "      <td>4.0</td>\n",
       "      <td>2017</td>\n",
       "    </tr>\n",
       "    <tr>\n",
       "      <th>2017-09-01</th>\n",
       "      <td>10132775.0</td>\n",
       "      <td>3.9</td>\n",
       "      <td>2017</td>\n",
       "    </tr>\n",
       "    <tr>\n",
       "      <th>2017-10-01</th>\n",
       "      <td>10139339.0</td>\n",
       "      <td>3.9</td>\n",
       "      <td>2017</td>\n",
       "    </tr>\n",
       "    <tr>\n",
       "      <th>2017-11-01</th>\n",
       "      <td>10139552.0</td>\n",
       "      <td>3.9</td>\n",
       "      <td>2017</td>\n",
       "    </tr>\n",
       "    <tr>\n",
       "      <th>2017-12-01</th>\n",
       "      <td>10138193.0</td>\n",
       "      <td>3.9</td>\n",
       "      <td>2017</td>\n",
       "    </tr>\n",
       "  </tbody>\n",
       "</table>\n",
       "<p>1080 rows × 3 columns</p>\n",
       "</div>"
      ],
      "text/plain": [
       "                     laborforce  unemploymentrate  year\n",
       "state    date                                          \n",
       "Colorado 2000-01-01   2354671.0               2.8  2000\n",
       "         2000-02-01   2356780.0               2.8  2000\n",
       "         2000-03-01   2357991.0               2.7  2000\n",
       "         2000-04-01   2358321.0               2.7  2000\n",
       "         2000-05-01   2357978.0               2.7  2000\n",
       "...                         ...               ...   ...\n",
       "Florida  2017-08-01  10123142.0               4.0  2017\n",
       "         2017-09-01  10132775.0               3.9  2017\n",
       "         2017-10-01  10139339.0               3.9  2017\n",
       "         2017-11-01  10139552.0               3.9  2017\n",
       "         2017-12-01  10138193.0               3.9  2017\n",
       "\n",
       "[1080 rows x 3 columns]"
      ]
     },
     "metadata": {},
     "output_type": "display_data"
    }
   ],
   "source": [
    "# Do not edit this code\n",
    "tiny_unemp=unemp.loc[[\"Colorado\", \"California\", \"Alabama\", \"New York\", \"Florida\"]]\n",
    "display(tiny_unemp)"
   ]
  },
  {
   "cell_type": "code",
   "execution_count": 21,
   "id": "964bec9d",
   "metadata": {
    "scrolled": false
   },
   "outputs": [
    {
     "data": {
      "text/plain": [
       "year  state     \n",
       "2000  Alabama       4.575000\n",
       "      California    4.958333\n",
       "      Colorado      2.758333\n",
       "      Florida       3.716667\n",
       "      New York      4.525000\n",
       "                      ...   \n",
       "2017  Alabama       4.408333\n",
       "      California    4.775000\n",
       "      Colorado      2.808333\n",
       "      Florida       4.150000\n",
       "      New York      4.700000\n",
       "Name: unemploymentrate, Length: 90, dtype: float64"
      ]
     },
     "metadata": {},
     "output_type": "display_data"
    }
   ],
   "source": [
    "# Exercise 1c -- Steps 1-3\n",
    "yearly_state_unemp=tiny_unemp.groupby(['year','state'])['unemploymentrate'].mean()\n",
    "display(yearly_state_unemp)"
   ]
  },
  {
   "cell_type": "code",
   "execution_count": 24,
   "id": "b42aa27f",
   "metadata": {
    "scrolled": false
   },
   "outputs": [
    {
     "data": {
      "text/html": [
       "<div>\n",
       "<style scoped>\n",
       "    .dataframe tbody tr th:only-of-type {\n",
       "        vertical-align: middle;\n",
       "    }\n",
       "\n",
       "    .dataframe tbody tr th {\n",
       "        vertical-align: top;\n",
       "    }\n",
       "\n",
       "    .dataframe thead th {\n",
       "        text-align: right;\n",
       "    }\n",
       "</style>\n",
       "<table border=\"1\" class=\"dataframe\">\n",
       "  <thead>\n",
       "    <tr style=\"text-align: right;\">\n",
       "      <th>state</th>\n",
       "      <th>Alabama</th>\n",
       "      <th>California</th>\n",
       "      <th>Colorado</th>\n",
       "      <th>Florida</th>\n",
       "      <th>New York</th>\n",
       "    </tr>\n",
       "    <tr>\n",
       "      <th>year</th>\n",
       "      <th></th>\n",
       "      <th></th>\n",
       "      <th></th>\n",
       "      <th></th>\n",
       "      <th></th>\n",
       "    </tr>\n",
       "  </thead>\n",
       "  <tbody>\n",
       "    <tr>\n",
       "      <th>2000</th>\n",
       "      <td>4.575000</td>\n",
       "      <td>4.958333</td>\n",
       "      <td>2.758333</td>\n",
       "      <td>3.716667</td>\n",
       "      <td>4.525000</td>\n",
       "    </tr>\n",
       "    <tr>\n",
       "      <th>2001</th>\n",
       "      <td>5.100000</td>\n",
       "      <td>5.433333</td>\n",
       "      <td>3.816667</td>\n",
       "      <td>4.633333</td>\n",
       "      <td>4.833333</td>\n",
       "    </tr>\n",
       "    <tr>\n",
       "      <th>2002</th>\n",
       "      <td>5.900000</td>\n",
       "      <td>6.650000</td>\n",
       "      <td>5.525000</td>\n",
       "      <td>5.641667</td>\n",
       "      <td>6.141667</td>\n",
       "    </tr>\n",
       "    <tr>\n",
       "      <th>2003</th>\n",
       "      <td>6.025000</td>\n",
       "      <td>6.800000</td>\n",
       "      <td>5.950000</td>\n",
       "      <td>5.225000</td>\n",
       "      <td>6.391667</td>\n",
       "    </tr>\n",
       "    <tr>\n",
       "      <th>2004</th>\n",
       "      <td>5.700000</td>\n",
       "      <td>6.208333</td>\n",
       "      <td>5.475000</td>\n",
       "      <td>4.608333</td>\n",
       "      <td>5.808333</td>\n",
       "    </tr>\n",
       "    <tr>\n",
       "      <th>2005</th>\n",
       "      <td>4.500000</td>\n",
       "      <td>5.400000</td>\n",
       "      <td>5.025000</td>\n",
       "      <td>3.683333</td>\n",
       "      <td>5.000000</td>\n",
       "    </tr>\n",
       "    <tr>\n",
       "      <th>2006</th>\n",
       "      <td>4.066667</td>\n",
       "      <td>4.916667</td>\n",
       "      <td>4.308333</td>\n",
       "      <td>3.241667</td>\n",
       "      <td>4.558333</td>\n",
       "    </tr>\n",
       "    <tr>\n",
       "      <th>2007</th>\n",
       "      <td>3.975000</td>\n",
       "      <td>5.375000</td>\n",
       "      <td>3.725000</td>\n",
       "      <td>4.008333</td>\n",
       "      <td>4.550000</td>\n",
       "    </tr>\n",
       "    <tr>\n",
       "      <th>2008</th>\n",
       "      <td>5.716667</td>\n",
       "      <td>7.291667</td>\n",
       "      <td>4.850000</td>\n",
       "      <td>6.300000</td>\n",
       "      <td>5.458333</td>\n",
       "    </tr>\n",
       "    <tr>\n",
       "      <th>2009</th>\n",
       "      <td>10.991667</td>\n",
       "      <td>11.141667</td>\n",
       "      <td>7.300000</td>\n",
       "      <td>10.391667</td>\n",
       "      <td>8.316667</td>\n",
       "    </tr>\n",
       "    <tr>\n",
       "      <th>2010</th>\n",
       "      <td>10.541667</td>\n",
       "      <td>12.225000</td>\n",
       "      <td>8.725000</td>\n",
       "      <td>11.033333</td>\n",
       "      <td>8.591667</td>\n",
       "    </tr>\n",
       "    <tr>\n",
       "      <th>2011</th>\n",
       "      <td>9.616667</td>\n",
       "      <td>11.708333</td>\n",
       "      <td>8.358333</td>\n",
       "      <td>9.991667</td>\n",
       "      <td>8.300000</td>\n",
       "    </tr>\n",
       "    <tr>\n",
       "      <th>2012</th>\n",
       "      <td>7.983333</td>\n",
       "      <td>10.375000</td>\n",
       "      <td>7.891667</td>\n",
       "      <td>8.483333</td>\n",
       "      <td>8.516667</td>\n",
       "    </tr>\n",
       "    <tr>\n",
       "      <th>2013</th>\n",
       "      <td>7.216667</td>\n",
       "      <td>8.941667</td>\n",
       "      <td>6.850000</td>\n",
       "      <td>7.233333</td>\n",
       "      <td>7.708333</td>\n",
       "    </tr>\n",
       "    <tr>\n",
       "      <th>2014</th>\n",
       "      <td>6.766667</td>\n",
       "      <td>7.500000</td>\n",
       "      <td>5.000000</td>\n",
       "      <td>6.266667</td>\n",
       "      <td>6.333333</td>\n",
       "    </tr>\n",
       "    <tr>\n",
       "      <th>2015</th>\n",
       "      <td>6.091667</td>\n",
       "      <td>6.200000</td>\n",
       "      <td>3.875000</td>\n",
       "      <td>5.441667</td>\n",
       "      <td>5.258333</td>\n",
       "    </tr>\n",
       "    <tr>\n",
       "      <th>2016</th>\n",
       "      <td>5.858333</td>\n",
       "      <td>5.483333</td>\n",
       "      <td>3.275000</td>\n",
       "      <td>4.825000</td>\n",
       "      <td>4.850000</td>\n",
       "    </tr>\n",
       "    <tr>\n",
       "      <th>2017</th>\n",
       "      <td>4.408333</td>\n",
       "      <td>4.775000</td>\n",
       "      <td>2.808333</td>\n",
       "      <td>4.150000</td>\n",
       "      <td>4.700000</td>\n",
       "    </tr>\n",
       "  </tbody>\n",
       "</table>\n",
       "</div>"
      ],
      "text/plain": [
       "state    Alabama  California  Colorado    Florida  New York\n",
       "year                                                       \n",
       "2000    4.575000    4.958333  2.758333   3.716667  4.525000\n",
       "2001    5.100000    5.433333  3.816667   4.633333  4.833333\n",
       "2002    5.900000    6.650000  5.525000   5.641667  6.141667\n",
       "2003    6.025000    6.800000  5.950000   5.225000  6.391667\n",
       "2004    5.700000    6.208333  5.475000   4.608333  5.808333\n",
       "2005    4.500000    5.400000  5.025000   3.683333  5.000000\n",
       "2006    4.066667    4.916667  4.308333   3.241667  4.558333\n",
       "2007    3.975000    5.375000  3.725000   4.008333  4.550000\n",
       "2008    5.716667    7.291667  4.850000   6.300000  5.458333\n",
       "2009   10.991667   11.141667  7.300000  10.391667  8.316667\n",
       "2010   10.541667   12.225000  8.725000  11.033333  8.591667\n",
       "2011    9.616667   11.708333  8.358333   9.991667  8.300000\n",
       "2012    7.983333   10.375000  7.891667   8.483333  8.516667\n",
       "2013    7.216667    8.941667  6.850000   7.233333  7.708333\n",
       "2014    6.766667    7.500000  5.000000   6.266667  6.333333\n",
       "2015    6.091667    6.200000  3.875000   5.441667  5.258333\n",
       "2016    5.858333    5.483333  3.275000   4.825000  4.850000\n",
       "2017    4.408333    4.775000  2.808333   4.150000  4.700000"
      ]
     },
     "metadata": {},
     "output_type": "display_data"
    },
    {
     "data": {
      "text/plain": [
       "<AxesSubplot:xlabel='year'>"
      ]
     },
     "execution_count": 24,
     "metadata": {},
     "output_type": "execute_result"
    },
    {
     "data": {
      "image/png": "[encoded data removed]",
      "text/plain": [
       "<Figure size 432x288 with 1 Axes>"
      ]
     },
     "metadata": {
      "needs_background": "light"
     },
     "output_type": "display_data"
    }
   ],
   "source": [
    "# Exercise 1c -- Steps 4 & 5\n",
    "clean_state_unemp=yearly_state_unemp.unstack()\n",
    "display(clean_state_unemp)\n",
    "clean_state_unemp.plot()"
   ]
  },
  {
   "cell_type": "code",
   "execution_count": 23,
   "id": "95ca3b33",
   "metadata": {},
   "outputs": [
    {
     "data": {
      "text/plain": [
       "<AxesSubplot:xlabel='year,state'>"
      ]
     },
     "execution_count": 23,
     "metadata": {},
     "output_type": "execute_result"
    },
    {
     "data": {
      "image/png": "[encoded data removed]",
      "text/plain": [
       "<Figure size 432x288 with 1 Axes>"
      ]
     },
     "metadata": {
      "needs_background": "light"
     },
     "output_type": "display_data"
    }
   ],
   "source": [
    "# Exercise 1c -- Step 6\n",
    "yearly_state_unemp.plot()"
   ]
  },
  {
   "cell_type": "markdown",
   "id": "f26ef477",
   "metadata": {},
   "source": [
    "#### 1. Unemployment is cyclical\n",
    "#### 2. It creates more clarity in the plot as .plot will be able to plot the various states accordingly"
   ]
  },
  {
   "cell_type": "markdown",
   "id": "62b5c33c",
   "metadata": {},
   "source": [
    "### Response to Exercise 1c"
   ]
  },
  {
   "cell_type": "markdown",
   "id": "96daf06e",
   "metadata": {},
   "source": [
    "## Exercise 1d -- Using Lags to Plot Difference\n",
    "Instead of plotting the unemployment rate average over time, we will plot the annual difference between unemployment rates over time for each state. To do this, complete the following steps:\n",
    "1. Create a DataFrame called `shifted_unemp` and assign it to `clean_state_unemp` shifted by 1.\n",
    "2. Create a DataFrame called `change_unemp` and assign it to the the difference between `clean_state_unemp` and `shifted_unemp` divided by `shifted_unemp`.\n",
    "3. Call `.plot()` on `change_unemp`.\n",
    "\n",
    "Answer the following questions in the markdown cell below. \n",
    "1. Why is the year 2000 no longer being plotted? Look at the `change_unemp` DataFrame if you are unsure.\n",
    "2. Which state saw the largest annual increase in unemployment during this period?"
   ]
  },
  {
   "cell_type": "code",
   "execution_count": 30,
   "id": "1ee44c9b",
   "metadata": {
    "scrolled": true
   },
   "outputs": [
    {
     "data": {
      "text/plain": [
       "<AxesSubplot:xlabel='year'>"
      ]
     },
     "execution_count": 30,
     "metadata": {},
     "output_type": "execute_result"
    },
    {
     "data": {
      "image/png": "[encoded data removed]",
      "text/plain": [
       "<Figure size 432x288 with 1 Axes>"
      ]
     },
     "metadata": {
      "needs_background": "light"
     },
     "output_type": "display_data"
    }
   ],
   "source": [
    "# Exercise 1d code\n",
    "shifted_unemp=clean_state_unemp.shift(1)\n",
    "shifted_unemp\n",
    "change_unemp=((clean_state_unemp-shifted_unemp)/shifted_unemp)\n",
    "change_unemp\n",
    "change_unemp.plot()"
   ]
  },
  {
   "cell_type": "markdown",
   "id": "3598e1c1",
   "metadata": {},
   "source": [
    "#### 1. Year 2000 isn't plotted anymore as unemployment rate data starts from that year and is treated as NA. Therefore, in order to find the change in unemployment in 2000, 1999's unemployment rate is required. Hence, it is ultimately omitted.\n",
    "#### 2. Alabama"
   ]
  },
  {
   "cell_type": "markdown",
   "id": "9a6be3a0",
   "metadata": {},
   "source": [
    "### Response to Exercise 1d"
   ]
  },
  {
   "cell_type": "markdown",
   "id": "14f3f612",
   "metadata": {},
   "source": [
    "## Exercise 2\n",
    "In this question, we're going to look at data on daily Covid cases in British Columbia from the [COVID-19 Canada Open Data Working Group](https://github.com/ccodwg/Covid19Canada). This data is broken down into five health regions:\n",
    "- Fraser Health (Fraser)\n",
    "- Interior Health (Interior)\n",
    "- Northern Health (Northern)\n",
    "- Vancouver Coastal Health (Vancouver Coastal)\n",
    "- Vancouver Island Health Authority (Island)\n",
    "\n",
    "You can see the geography of these regions below (Image from gov.bc.ca)"
   ]
  },
  {
   "cell_type": "markdown",
   "id": "0d47643b",
   "metadata": {},
   "source": [
    "<img src = \"https://www2.gov.bc.ca/assets/gov/health/managing-your-health/mental-health-substance-use/find-services-map-large.jpg\"/>"
   ]
  },
  {
   "cell_type": "code",
   "execution_count": 97,
   "id": "0531aed7",
   "metadata": {
    "scrolled": true
   },
   "outputs": [
    {
     "data": {
      "text/html": [
       "<div>\n",
       "<style scoped>\n",
       "    .dataframe tbody tr th:only-of-type {\n",
       "        vertical-align: middle;\n",
       "    }\n",
       "\n",
       "    .dataframe tbody tr th {\n",
       "        vertical-align: top;\n",
       "    }\n",
       "\n",
       "    .dataframe thead th {\n",
       "        text-align: right;\n",
       "    }\n",
       "</style>\n",
       "<table border=\"1\" class=\"dataframe\">\n",
       "  <thead>\n",
       "    <tr style=\"text-align: right;\">\n",
       "      <th></th>\n",
       "      <th>date_report</th>\n",
       "      <th>Fraser</th>\n",
       "      <th>Interior</th>\n",
       "      <th>Island</th>\n",
       "      <th>Northern</th>\n",
       "      <th>Vancouver Coastal</th>\n",
       "    </tr>\n",
       "  </thead>\n",
       "  <tbody>\n",
       "    <tr>\n",
       "      <th>0</th>\n",
       "      <td>2021-01-01</td>\n",
       "      <td>0.000000</td>\n",
       "      <td>0.000000</td>\n",
       "      <td>0.000000</td>\n",
       "      <td>0.000000</td>\n",
       "      <td>0.000000</td>\n",
       "    </tr>\n",
       "    <tr>\n",
       "      <th>1</th>\n",
       "      <td>2021-01-02</td>\n",
       "      <td>25.701861</td>\n",
       "      <td>24.589675</td>\n",
       "      <td>9.101332</td>\n",
       "      <td>33.213897</td>\n",
       "      <td>24.191511</td>\n",
       "    </tr>\n",
       "    <tr>\n",
       "      <th>2</th>\n",
       "      <td>2021-01-03</td>\n",
       "      <td>45.464436</td>\n",
       "      <td>9.935222</td>\n",
       "      <td>10.519722</td>\n",
       "      <td>39.252788</td>\n",
       "      <td>26.815675</td>\n",
       "    </tr>\n",
       "    <tr>\n",
       "      <th>3</th>\n",
       "      <td>2021-01-04</td>\n",
       "      <td>21.129137</td>\n",
       "      <td>7.203036</td>\n",
       "      <td>6.500952</td>\n",
       "      <td>17.110190</td>\n",
       "      <td>21.813363</td>\n",
       "    </tr>\n",
       "    <tr>\n",
       "      <th>4</th>\n",
       "      <td>2021-01-05</td>\n",
       "      <td>0.000000</td>\n",
       "      <td>0.000000</td>\n",
       "      <td>0.000000</td>\n",
       "      <td>0.000000</td>\n",
       "      <td>0.000000</td>\n",
       "    </tr>\n",
       "  </tbody>\n",
       "</table>\n",
       "</div>"
      ],
      "text/plain": [
       "  date_report     Fraser   Interior     Island   Northern  Vancouver Coastal\n",
       "0  2021-01-01   0.000000   0.000000   0.000000   0.000000           0.000000\n",
       "1  2021-01-02  25.701861  24.589675   9.101332  33.213897          24.191511\n",
       "2  2021-01-03  45.464436   9.935222  10.519722  39.252788          26.815675\n",
       "3  2021-01-04  21.129137   7.203036   6.500952  17.110190          21.813363\n",
       "4  2021-01-05   0.000000   0.000000   0.000000   0.000000           0.000000"
      ]
     },
     "execution_count": 97,
     "metadata": {},
     "output_type": "execute_result"
    }
   ],
   "source": [
    "# Dowlonad the Data -- don't edit this cell\n",
    "cases_bc = pd.read_csv(\"/Users/andrewtlim/Downloads/covid_cases_bc.csv\")\n",
    "cases_bc.head()"
   ]
  },
  {
   "cell_type": "markdown",
   "id": "18cd4dea",
   "metadata": {},
   "source": [
    "## Exercise 2a -- Checking the Data\n",
    "`cases_bc` contains daily reported covid cases per hundred thousand people in BC for the year 2021. The data is broken down by health region. Before working with the data, you should learn how its structured and check it for potential errors. Answer the following questions in the first markdown cell below.\n",
    "1. What is an observation (or row) in the dataset?\n",
    "2. What is the index? Could we turn one of our variables into an index? Which one?\n",
    "3. Does it make sense for any of the values in the table to be negative? Why or why not?\n",
    "\n",
    "Now complete the following steps:\n",
    "- Make it so the date is our index and check whether it is a `DateTimeIndex`. Afterwards, display `cases_bc` by making it the last line of the cell below. \n",
    "- In the second cell, call `.dropna()` on cases_bc. \n",
    "- In the third cell, use `.any()` and comparison operators **applied to `cases_bc`** to display all dates on which at least one of the health regions has a negative value. Call this DataFrame `neg_values`. Display `neg_values` by making it the last line of the cell. (**Hint**: Observe what happens when you use a comparison operator on a DataFrame. You can use the output to easily form an index for your DataFrame.)\n",
    "- If any dates had a negative values, use comparison operators to set all negative values in `cases_bc` to `NaN`.\n",
    "\n",
    "\n",
    "Answer the following Questions in the second Markdown cell.\n",
    "\n",
    "4. Did dropping missing value change the DataFrame at all?\n",
    "5. Did you find any negative values? If so, they have been turned into `NaN` values and will not be used in future analysis. What would be a possible alternative to this approach?\n"
   ]
  },
  {
   "cell_type": "markdown",
   "id": "fed4d351",
   "metadata": {},
   "source": [
    "### Response to Exercise 2a Questions 1-3\n"
   ]
  },
  {
   "cell_type": "markdown",
   "id": "c9afc8b8",
   "metadata": {
    "scrolled": true
   },
   "source": [
    "### Exercise 2a -- Step 1\n",
    "1. Each row represents the daily covid cases per hundred thousand people across the five health regions\n",
    "2. Yes, the date_report should be set as the index\n",
    "3. No there should be no negative values as covid cases does not make any sense when defined as a negative value."
   ]
  },
  {
   "cell_type": "code",
   "execution_count": 98,
   "id": "f3a8472f",
   "metadata": {
    "scrolled": true
   },
   "outputs": [
    {
     "name": "stdout",
     "output_type": "stream",
     "text": [
      "Fraser               float64\n",
      "Interior             float64\n",
      "Island               float64\n",
      "Northern             float64\n",
      "Vancouver Coastal    float64\n",
      "dtype: object\n"
     ]
    },
    {
     "data": {
      "text/html": [
       "<div>\n",
       "<style scoped>\n",
       "    .dataframe tbody tr th:only-of-type {\n",
       "        vertical-align: middle;\n",
       "    }\n",
       "\n",
       "    .dataframe tbody tr th {\n",
       "        vertical-align: top;\n",
       "    }\n",
       "\n",
       "    .dataframe thead th {\n",
       "        text-align: right;\n",
       "    }\n",
       "</style>\n",
       "<table border=\"1\" class=\"dataframe\">\n",
       "  <thead>\n",
       "    <tr style=\"text-align: right;\">\n",
       "      <th></th>\n",
       "      <th>Fraser</th>\n",
       "      <th>Interior</th>\n",
       "      <th>Island</th>\n",
       "      <th>Northern</th>\n",
       "      <th>Vancouver Coastal</th>\n",
       "    </tr>\n",
       "    <tr>\n",
       "      <th>date_report</th>\n",
       "      <th></th>\n",
       "      <th></th>\n",
       "      <th></th>\n",
       "      <th></th>\n",
       "      <th></th>\n",
       "    </tr>\n",
       "  </thead>\n",
       "  <tbody>\n",
       "    <tr>\n",
       "      <th>2021-01-01</th>\n",
       "      <td>0.000000</td>\n",
       "      <td>0.000000</td>\n",
       "      <td>0.000000</td>\n",
       "      <td>0.000000</td>\n",
       "      <td>0.000000</td>\n",
       "    </tr>\n",
       "    <tr>\n",
       "      <th>2021-01-02</th>\n",
       "      <td>25.701861</td>\n",
       "      <td>24.589675</td>\n",
       "      <td>9.101332</td>\n",
       "      <td>33.213897</td>\n",
       "      <td>24.191511</td>\n",
       "    </tr>\n",
       "    <tr>\n",
       "      <th>2021-01-03</th>\n",
       "      <td>45.464436</td>\n",
       "      <td>9.935222</td>\n",
       "      <td>10.519722</td>\n",
       "      <td>39.252788</td>\n",
       "      <td>26.815675</td>\n",
       "    </tr>\n",
       "    <tr>\n",
       "      <th>2021-01-04</th>\n",
       "      <td>21.129137</td>\n",
       "      <td>7.203036</td>\n",
       "      <td>6.500952</td>\n",
       "      <td>17.110190</td>\n",
       "      <td>21.813363</td>\n",
       "    </tr>\n",
       "    <tr>\n",
       "      <th>2021-01-05</th>\n",
       "      <td>0.000000</td>\n",
       "      <td>0.000000</td>\n",
       "      <td>0.000000</td>\n",
       "      <td>0.000000</td>\n",
       "      <td>0.000000</td>\n",
       "    </tr>\n",
       "    <tr>\n",
       "      <th>...</th>\n",
       "      <td>...</td>\n",
       "      <td>...</td>\n",
       "      <td>...</td>\n",
       "      <td>...</td>\n",
       "      <td>...</td>\n",
       "    </tr>\n",
       "    <tr>\n",
       "      <th>2021-12-27</th>\n",
       "      <td>42.153154</td>\n",
       "      <td>36.387752</td>\n",
       "      <td>24.585417</td>\n",
       "      <td>17.781177</td>\n",
       "      <td>28.865804</td>\n",
       "    </tr>\n",
       "    <tr>\n",
       "      <th>2021-12-28</th>\n",
       "      <td>41.995474</td>\n",
       "      <td>33.282995</td>\n",
       "      <td>33.686749</td>\n",
       "      <td>13.755250</td>\n",
       "      <td>32.966060</td>\n",
       "    </tr>\n",
       "    <tr>\n",
       "      <th>2021-12-29</th>\n",
       "      <td>83.623027</td>\n",
       "      <td>46.447164</td>\n",
       "      <td>36.523528</td>\n",
       "      <td>33.213897</td>\n",
       "      <td>46.824926</td>\n",
       "    </tr>\n",
       "    <tr>\n",
       "      <th>2021-12-30</th>\n",
       "      <td>121.886737</td>\n",
       "      <td>62.219330</td>\n",
       "      <td>54.371594</td>\n",
       "      <td>40.930258</td>\n",
       "      <td>80.119006</td>\n",
       "    </tr>\n",
       "    <tr>\n",
       "      <th>2021-12-31</th>\n",
       "      <td>102.176722</td>\n",
       "      <td>39.740889</td>\n",
       "      <td>51.298417</td>\n",
       "      <td>43.278715</td>\n",
       "      <td>79.134944</td>\n",
       "    </tr>\n",
       "  </tbody>\n",
       "</table>\n",
       "<p>365 rows × 5 columns</p>\n",
       "</div>"
      ],
      "text/plain": [
       "                 Fraser   Interior     Island   Northern  Vancouver Coastal\n",
       "date_report                                                                \n",
       "2021-01-01     0.000000   0.000000   0.000000   0.000000           0.000000\n",
       "2021-01-02    25.701861  24.589675   9.101332  33.213897          24.191511\n",
       "2021-01-03    45.464436   9.935222  10.519722  39.252788          26.815675\n",
       "2021-01-04    21.129137   7.203036   6.500952  17.110190          21.813363\n",
       "2021-01-05     0.000000   0.000000   0.000000   0.000000           0.000000\n",
       "...                 ...        ...        ...        ...                ...\n",
       "2021-12-27    42.153154  36.387752  24.585417  17.781177          28.865804\n",
       "2021-12-28    41.995474  33.282995  33.686749  13.755250          32.966060\n",
       "2021-12-29    83.623027  46.447164  36.523528  33.213897          46.824926\n",
       "2021-12-30   121.886737  62.219330  54.371594  40.930258          80.119006\n",
       "2021-12-31   102.176722  39.740889  51.298417  43.278715          79.134944\n",
       "\n",
       "[365 rows x 5 columns]"
      ]
     },
     "execution_count": 98,
     "metadata": {},
     "output_type": "execute_result"
    }
   ],
   "source": [
    "# Exercise 2a -- Step 2\n",
    "cases_bc.set_index('date_report',inplace=True)\n",
    "print(cases_bc.dtypes)\n",
    "cases_bc"
   ]
  },
  {
   "cell_type": "code",
   "execution_count": 99,
   "id": "af050da4",
   "metadata": {
    "scrolled": false
   },
   "outputs": [
    {
     "name": "stdout",
     "output_type": "stream",
     "text": [
      "               Fraser  Interior    Island  Northern  Vancouver Coastal\n",
      "date_report                                                           \n",
      "2021-06-07   0.525600  1.614474  0.236398 -0.670988          -1.312082\n",
      "2021-06-23   1.576801  5.091801  0.354597 -1.006482           1.066067\n",
      "2021-06-28   3.574083  2.235425 -0.590996  0.000000           3.936246\n",
      "2021-06-30   0.893521  1.738664  0.118199 -0.335494           0.984061\n"
     ]
    }
   ],
   "source": [
    "# Exercise 2a -- Step 3\n",
    "cases_bc.dropna()\n",
    "negative_values=cases_bc<0\n",
    "dates_with_negatives=negative_values.any(axis=1)\n",
    "neg_values=cases_bc[dates_with_negatives]\n",
    "cases_bc=cases_bc.where(cases_bc >= 0, np.nan)\n",
    "print(neg_values)"
   ]
  },
  {
   "cell_type": "markdown",
   "id": "d3613b6f",
   "metadata": {
    "scrolled": true
   },
   "source": [
    "### Exercise 2a -- Step 4\n",
    "1. No, dropping missing values did not change the DataFrame. Hence, suggesting that there were no missing values\n",
    "2. Yes, I found some and they were converted to Nan. A possible approach would be to consider the values as errorneous data and to remove the negative sign from each of the negative value."
   ]
  },
  {
   "cell_type": "markdown",
   "id": "8f4d5242",
   "metadata": {},
   "source": [
    "### Response to Exercise 2a 4-5"
   ]
  },
  {
   "cell_type": "markdown",
   "id": "59ebbe62",
   "metadata": {},
   "source": [
    "## Exercise 2b -- Aggregations\n",
    "Using aggregators with the axis argument, complete the following steps:\n",
    "1. At each date, find the minimum number of cases per 100,000 across health regions. Print the top 3 rows of the resulting series.\n",
    "2. For each health region, what was the median number of daily cases per 100,000 in 2021. Print the resulting series. (**Hint:** Think about how long should this series be.)\n",
    "3. What is the maximum number of daily cases per 100,000 across all health regions? Which health region did this maximum occur in? What day was the maximum attained?\n",
    "\n",
    "**Hint:** For the last step, you might need to aggregate twice. You may also want to use the aggregator `.idxmax()` which returns the index of the maximum value. "
   ]
  },
  {
   "cell_type": "code",
   "execution_count": 163,
   "id": "1aa16b0a",
   "metadata": {
    "scrolled": true
   },
   "outputs": [
    {
     "name": "stdout",
     "output_type": "stream",
     "text": [
      "date_report\n",
      "2021-01-01    0.000000\n",
      "2021-01-02    9.101332\n",
      "2021-01-03    9.935222\n",
      "dtype: float64\n"
     ]
    }
   ],
   "source": [
    "# Exercise 2b -- Step 1\n",
    "min_per_date=cases_bc.min(axis=1)\n",
    "print(min_per_date.head(3))"
   ]
  },
  {
   "cell_type": "code",
   "execution_count": 164,
   "id": "5202b2c7",
   "metadata": {},
   "outputs": [
    {
     "name": "stdout",
     "output_type": "stream",
     "text": [
      "Fraser               8.567287\n",
      "Interior             6.582085\n",
      "Island               2.482181\n",
      "Northern             8.219601\n",
      "Vancouver Coastal    5.576348\n",
      "dtype: float64\n"
     ]
    }
   ],
   "source": [
    "# Exercise 2b -- Step 2\n",
    "median_per_region=cases_bc.median()\n",
    "print(median_per_region)"
   ]
  },
  {
   "cell_type": "code",
   "execution_count": 165,
   "id": "7fcff46e",
   "metadata": {},
   "outputs": [
    {
     "name": "stdout",
     "output_type": "stream",
     "text": [
      "There were a maximum of 136.211 daily cases per 100,000 across all regions. This maximum occured in Northern on 2021-10-18\n"
     ]
    }
   ],
   "source": [
    "max_daily = cases_bc.max(axis=1)\n",
    "max_across_regions = max_daily.max()\n",
    "region_max=cases_bc.max().idxmax()\n",
    "date_max=cases_bc[region_max].idxmax()\n",
    "\n",
    "print(f'There were a maximum of {max_across_regions:.3f} daily cases per 100,000 across all regions. This maximum occured in {region_max} on {date_max}')"
   ]
  },
  {
   "cell_type": "markdown",
   "id": "bb6cb53c",
   "metadata": {},
   "source": [
    "## Exercise 2c -- Classifying Variance\n",
    "Averages and medians communicate some notion of the statistical center of data. Similarly, the sample variance of data gives us some sense of how dispersed the data is around that center. A low variance means the data is relatively concentrated whereas a high variance means the data is relatively dispersed. The sample variance of a column of data $x$ can be given by the following equation\n",
    "$$\n",
    "var(x) = \\frac{1}{n-1} \\sum_{i=1}^{n} \\left(x_i - \\bar{x}\\right)^2\n",
    "$$\n",
    "where $n$ is the number of elements in $x$, $\\bar{x}$ is the average of $x$, and $x_i$ is a single element in $x$. Complete the following steps:\n",
    "1.  The method DataFrame and Series method `.var()` will automatically calculate the variance of each column or row in a DataFrame. Use `.var()` to calculate the variance in the daily cases per 100,000 for each health region in 2021. Name this DataFrame `hr_var`.\n",
    "2. Currently,  `hr_var` has a single column indexed by the integer 0. Rename this column so it is called \"s_var\".\n",
    "3. Using a list comprehension, create a new column in `hr_var` called \"classification\" which is equal to\n",
    "    - \"High\" if the variance for a health region is strictly greater than 300,  \n",
    "    - \"Medium\" if the variance for a health region is strictly greater than 150 and less than or equal to 300\n",
    "    - \"Low\" if the variance for a health region is less than or equal to 150. \n",
    "    \n",
    "4. Display the resulting DataFrame by having `hr_var` as your last line in the cell. \n",
    "5. In the second cell, use `cases_bc`, indexing, and `.plot()` to plot the daily cases per 100,000 for the Northern and Island health regions.\n",
    "\n",
    "Finally, in the Markdown cell below **answer the following question**. What are the classifications for the Northern and Island regions. What features of the two lines you plotted reflect these classifications? \n",
    "\n",
    "\n",
    "**Hint:** For step 3, you will want to use a nested if else statements within the list comprehension. "
   ]
  },
  {
   "cell_type": "code",
   "execution_count": 166,
   "id": "0244840b",
   "metadata": {
    "scrolled": true
   },
   "outputs": [
    {
     "data": {
      "text/html": [
       "<div>\n",
       "<style scoped>\n",
       "    .dataframe tbody tr th:only-of-type {\n",
       "        vertical-align: middle;\n",
       "    }\n",
       "\n",
       "    .dataframe tbody tr th {\n",
       "        vertical-align: top;\n",
       "    }\n",
       "\n",
       "    .dataframe thead th {\n",
       "        text-align: right;\n",
       "    }\n",
       "</style>\n",
       "<table border=\"1\" class=\"dataframe\">\n",
       "  <thead>\n",
       "    <tr style=\"text-align: right;\">\n",
       "      <th></th>\n",
       "      <th>s_var</th>\n",
       "      <th>classification</th>\n",
       "    </tr>\n",
       "  </thead>\n",
       "  <tbody>\n",
       "    <tr>\n",
       "      <th>Fraser</th>\n",
       "      <td>325.974643</td>\n",
       "      <td>high</td>\n",
       "    </tr>\n",
       "    <tr>\n",
       "      <th>Interior</th>\n",
       "      <td>248.630355</td>\n",
       "      <td>medium</td>\n",
       "    </tr>\n",
       "    <tr>\n",
       "      <th>Island</th>\n",
       "      <td>70.464125</td>\n",
       "      <td>low</td>\n",
       "    </tr>\n",
       "    <tr>\n",
       "      <th>Northern</th>\n",
       "      <td>492.035072</td>\n",
       "      <td>high</td>\n",
       "    </tr>\n",
       "    <tr>\n",
       "      <th>Vancouver Coastal</th>\n",
       "      <td>193.452989</td>\n",
       "      <td>medium</td>\n",
       "    </tr>\n",
       "  </tbody>\n",
       "</table>\n",
       "</div>"
      ],
      "text/plain": [
       "                        s_var classification\n",
       "Fraser             325.974643           high\n",
       "Interior           248.630355         medium\n",
       "Island              70.464125            low\n",
       "Northern           492.035072           high\n",
       "Vancouver Coastal  193.452989         medium"
      ]
     },
     "execution_count": 166,
     "metadata": {},
     "output_type": "execute_result"
    }
   ],
   "source": [
    "# Exercise 2c -- Steps 1-4\n",
    "hr_var=cases_bc.var().to_frame()\n",
    "hr_var.columns=['s_var']\n",
    "hr_var['classification']=np.where(hr_var['s_var']>300,'high',\n",
    "                                 np.where(hr_var['s_var']>150,'medium','low'))\n",
    "hr_var"
   ]
  },
  {
   "cell_type": "code",
   "execution_count": 167,
   "id": "ae71740a",
   "metadata": {
    "scrolled": true
   },
   "outputs": [
    {
     "data": {
      "text/plain": [
       "<AxesSubplot:xlabel='date_report'>"
      ]
     },
     "execution_count": 167,
     "metadata": {},
     "output_type": "execute_result"
    },
    {
     "data": {
      "image/png": "[encoded data removed]",
      "text/plain": [
       "<Figure size 432x288 with 1 Axes>"
      ]
     },
     "metadata": {
      "needs_background": "light"
     },
     "output_type": "display_data"
    }
   ],
   "source": [
    "# Exercise 2c -- Step 5\n",
    "cases_bc[['Northern','Island']].plot()"
   ]
  },
  {
   "cell_type": "markdown",
   "id": "400d92cc",
   "metadata": {},
   "source": [
    "### Response to Exercise 2c "
   ]
  },
  {
   "cell_type": "markdown",
   "id": "19c6e22e",
   "metadata": {},
   "source": [
    "## Exerice 2d -- More Classifying & `.applymap()`\n",
    "Now, we want to determine whether the cases per 100,000 on a given day was \"High\" ($> 10$), \"Low\"($\\leq 10$ and $>0$), or \"None\" ($=0$) for each region-day. To do this, complete the following steps:\n",
    "1. Define a function called `classify_cases` that takes a **single number** and returns a \"High\", \"Low\" or \"None\" according to the criteria above\n",
    "2. `.applymap()` takes a function of a single value and applies that function to each cell in a DataFrame  individuall. Using `classify_cases` and `.applymap`, create a DataFrame that has a classification for each region-day. Call this DataFrame `cases_bins`. \n",
    "3. Print the top 5 rows of that DataFratme. "
   ]
  },
  {
   "cell_type": "code",
   "execution_count": 168,
   "id": "2ca95753",
   "metadata": {},
   "outputs": [
    {
     "data": {
      "text/html": [
       "<div>\n",
       "<style scoped>\n",
       "    .dataframe tbody tr th:only-of-type {\n",
       "        vertical-align: middle;\n",
       "    }\n",
       "\n",
       "    .dataframe tbody tr th {\n",
       "        vertical-align: top;\n",
       "    }\n",
       "\n",
       "    .dataframe thead th {\n",
       "        text-align: right;\n",
       "    }\n",
       "</style>\n",
       "<table border=\"1\" class=\"dataframe\">\n",
       "  <thead>\n",
       "    <tr style=\"text-align: right;\">\n",
       "      <th></th>\n",
       "      <th>Fraser</th>\n",
       "      <th>Interior</th>\n",
       "      <th>Island</th>\n",
       "      <th>Northern</th>\n",
       "      <th>Vancouver Coastal</th>\n",
       "    </tr>\n",
       "    <tr>\n",
       "      <th>date_report</th>\n",
       "      <th></th>\n",
       "      <th></th>\n",
       "      <th></th>\n",
       "      <th></th>\n",
       "      <th></th>\n",
       "    </tr>\n",
       "  </thead>\n",
       "  <tbody>\n",
       "    <tr>\n",
       "      <th>2021-01-01</th>\n",
       "      <td>None</td>\n",
       "      <td>None</td>\n",
       "      <td>None</td>\n",
       "      <td>None</td>\n",
       "      <td>None</td>\n",
       "    </tr>\n",
       "    <tr>\n",
       "      <th>2021-01-02</th>\n",
       "      <td>High</td>\n",
       "      <td>High</td>\n",
       "      <td>Low</td>\n",
       "      <td>High</td>\n",
       "      <td>High</td>\n",
       "    </tr>\n",
       "    <tr>\n",
       "      <th>2021-01-03</th>\n",
       "      <td>High</td>\n",
       "      <td>Low</td>\n",
       "      <td>High</td>\n",
       "      <td>High</td>\n",
       "      <td>High</td>\n",
       "    </tr>\n",
       "    <tr>\n",
       "      <th>2021-01-04</th>\n",
       "      <td>High</td>\n",
       "      <td>Low</td>\n",
       "      <td>Low</td>\n",
       "      <td>High</td>\n",
       "      <td>High</td>\n",
       "    </tr>\n",
       "    <tr>\n",
       "      <th>2021-01-05</th>\n",
       "      <td>None</td>\n",
       "      <td>None</td>\n",
       "      <td>None</td>\n",
       "      <td>None</td>\n",
       "      <td>None</td>\n",
       "    </tr>\n",
       "  </tbody>\n",
       "</table>\n",
       "</div>"
      ],
      "text/plain": [
       "            Fraser Interior Island Northern Vancouver Coastal\n",
       "date_report                                                  \n",
       "2021-01-01    None     None   None     None              None\n",
       "2021-01-02    High     High    Low     High              High\n",
       "2021-01-03    High      Low   High     High              High\n",
       "2021-01-04    High      Low    Low     High              High\n",
       "2021-01-05    None     None   None     None              None"
      ]
     },
     "execution_count": 168,
     "metadata": {},
     "output_type": "execute_result"
    }
   ],
   "source": [
    "# Exercise 2d code\n",
    "def classify_cases (n):\n",
    "    if n >10:\n",
    "        return 'High'\n",
    "    elif 0<n<=10:\n",
    "        return 'Low'\n",
    "    elif n==0:\n",
    "        return 'None'\n",
    "cases_bins=cases_bc.applymap(classify_cases)\n",
    "cases_bins.head(5)"
   ]
  },
  {
   "cell_type": "markdown",
   "id": "4ea2a264",
   "metadata": {},
   "source": [
    "### Exercise 2e -- Classification Count\n",
    "Next, we want to count how many days of each type (\"High\", \"Low\", and \"None\") each helth region had on 2021. Complete the following steps:\n",
    "1. Using `pd.value_counts` and `.apply()`, create DataFrame called `class_counts` where the row indices are the three classes and the columns are health regions.\n",
    "2. Using the DataFrame method `.barh()`, create a horizontal bar plot where there are five groups of three bars. \n",
    "\n",
    "**Hint:** You may have to use `.T` to get the right bar chart. "
   ]
  },
  {
   "cell_type": "code",
   "execution_count": 169,
   "id": "b677a256",
   "metadata": {
    "scrolled": true
   },
   "outputs": [
    {
     "data": {
      "text/plain": [
       "<AxesSubplot:>"
      ]
     },
     "execution_count": 169,
     "metadata": {},
     "output_type": "execute_result"
    },
    {
     "data": {
      "image/png": "[encoded data removed]",
      "text/plain": [
       "<Figure size 432x288 with 1 Axes>"
      ]
     },
     "metadata": {
      "needs_background": "light"
     },
     "output_type": "display_data"
    }
   ],
   "source": [
    "# Exercise 2e code\n",
    "class_counts=cases_bins.apply(pd.value_counts)\n",
    "class_counts_transformed=class_counts.T\n",
    "class_counts_transformed.plot(kind='barh')"
   ]
  },
  {
   "cell_type": "markdown",
   "id": "6a4be232",
   "metadata": {},
   "source": [
    "### Exercise 2f -- Choose Your Health Region\n",
    "Choose one of the five health regions. Complete the following steps to find the average number of cases per 100,000 when case loads are \"High\" and when case loads are \"Low\".\n",
    "1. Using `pd.concat()` `cases_bc`, and `cases_bin`, create a DataFrame with two columns called `my_health_region`. The first column should be titled \"cases\" and include the number of cases per 100,000 in your chosen health region for each day. The second column should be titled \"class\" and include the classification for that health region in each day.\n",
    "2. Using `.groupby()` and an aggregator, find the average number of cases per 100,000 when case loads are \"High\" and when case loads are \"Low\"."
   ]
  },
  {
   "cell_type": "code",
   "execution_count": 176,
   "id": "21b17004",
   "metadata": {
    "scrolled": true
   },
   "outputs": [
    {
     "name": "stdout",
     "output_type": "stream",
     "text": [
      "                 Fraser   Interior     Island   Northern  Vancouver Coastal\n",
      "date_report                                                                \n",
      "2021-01-01     0.000000   0.000000   0.000000   0.000000           0.000000\n",
      "2021-01-02    25.701861  24.589675   9.101332  33.213897          24.191511\n",
      "2021-01-03    45.464436   9.935222  10.519722  39.252788          26.815675\n",
      "2021-01-04    21.129137   7.203036   6.500952  17.110190          21.813363\n",
      "2021-01-05     0.000000   0.000000   0.000000   0.000000           0.000000\n",
      "...                 ...        ...        ...        ...                ...\n",
      "2021-12-27    42.153154  36.387752  24.585417  17.781177          28.865804\n",
      "2021-12-28    41.995474  33.282995  33.686749  13.755250          32.966060\n",
      "2021-12-29    83.623027  46.447164  36.523528  33.213897          46.824926\n",
      "2021-12-30   121.886737  62.219330  54.371594  40.930258          80.119006\n",
      "2021-12-31   102.176722  39.740889  51.298417  43.278715          79.134944\n",
      "\n",
      "[365 rows x 5 columns]\n",
      "            Fraser Interior Island Northern Vancouver Coastal\n",
      "date_report                                                  \n",
      "2021-01-01    None     None   None     None              None\n",
      "2021-01-02    High     High    Low     High              High\n",
      "2021-01-03    High      Low   High     High              High\n",
      "2021-01-04    High      Low    Low     High              High\n",
      "2021-01-05    None     None   None     None              None\n",
      "...            ...      ...    ...      ...               ...\n",
      "2021-12-27    High     High   High     High              High\n",
      "2021-12-28    High     High   High     High              High\n",
      "2021-12-29    High     High   High     High              High\n",
      "2021-12-30    High     High   High     High              High\n",
      "2021-12-31    High     High   High     High              High\n",
      "\n",
      "[365 rows x 5 columns]\n",
      "                 cases class\n",
      "date_report                 \n",
      "2021-01-01    0.000000  None\n",
      "2021-01-02    9.101332   Low\n",
      "2021-01-03   10.519722  High\n",
      "2021-01-04    6.500952   Low\n",
      "2021-01-05    0.000000  None\n",
      "...                ...   ...\n",
      "2021-12-27   24.585417  High\n",
      "2021-12-28   33.686749  High\n",
      "2021-12-29   36.523528  High\n",
      "2021-12-30   54.371594  High\n",
      "2021-12-31   51.298417  High\n",
      "\n",
      "[365 rows x 2 columns]\n",
      "           cases\n",
      "class           \n",
      "High   20.921244\n",
      "Low     4.048624\n",
      "None    0.000000\n"
     ]
    }
   ],
   "source": [
    "# Exercise 2f code\n",
    "print(cases_bc)\n",
    "print(cases_bins)\n",
    "\n",
    "region = 'Island'\n",
    "\n",
    "my_health_region = pd.concat([cases_bc[[region]].rename(columns={region:'cases'}),\n",
    "                              cases_bins[[region]].rename(columns={region:'class'})],axis=1)\n",
    "print(my_health_region)\n",
    "average_cases_by_class = my_health_region.groupby('class').mean()\n",
    "print(average_cases_by_class)"
   ]
  }
 ],
 "metadata": {
  "kernelspec": {
   "display_name": "Python 3 (ipykernel)",
   "language": "python",
   "name": "python3"
  },
  "language_info": {
   "codemirror_mode": {
    "name": "ipython",
    "version": 3
   },
   "file_extension": ".py",
   "mimetype": "text/x-python",
   "name": "python",
   "nbconvert_exporter": "python",
   "pygments_lexer": "ipython3",
   "version": "3.9.12"
  }
 },
 "nbformat": 4,
 "nbformat_minor": 5
}
