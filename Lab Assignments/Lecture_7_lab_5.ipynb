{
 "cells": [
  {
   "cell_type": "markdown",
   "id": "aa4602c3",
   "metadata": {},
   "source": [
    "# Lab Assignment 4 -- Arrays, Matrices, and NumPy\n",
    "In this lab, you will complete a series of exercises related to the lecture material on arrays, matrices, and NumPy, You will have to do some calculations on a piece of paper or tablet -- submit either pictures or a PDF of your work with this Notebook."
   ]
  },
  {
   "cell_type": "markdown",
   "id": "36d604de",
   "metadata": {},
   "source": [
    "Throughout this assignment, we will refer to the following arrays.\n",
    "$$\n",
    "A = \\left[\\begin{array}{ccc}\n",
    "1 & 5 & 3\\\\ 5 & -4 & 2\\\\ 3 & 2 & 1 \n",
    "\\end{array}\\right], B = \\left[\\begin{array}{cccc}\n",
    "0 & 1 & 3 & 9\\\\ 6 & -1 & -2 & -9\\\\ 2 & 5 & 1 &2\n",
    "\\end{array}\\right], C = \\left[\\begin{array}{ccc}\n",
    "1 & 5 & -13\\\\ 7 & -7 & 7\\\\ 2 & -3 & 1 \\\\ 0 & 7 & -6\n",
    "\\end{array}\\right] \\\\ d = \\left[\\begin{array}{c}\n",
    "1 \\\\ -3\\\\ 2\n",
    "\\end{array}\\right], f= \\left[\\begin{array}{c}\n",
    "-2 \\\\ 4\\\\ 1\n",
    "\\end{array}\\right],g = \\left[\\begin{array}{c}\n",
    "-1 \\\\ 10 \\\\ -1\\\\ 5\n",
    "\\end{array}\\right]\n",
    "$$"
   ]
  },
  {
   "cell_type": "markdown",
   "id": "6814b00c",
   "metadata": {},
   "source": [
    "## Exercise 1 -- Defining Arrays\n",
    "Import `numpy` with the alias np and define the matrices above manually in the cell below. Make sure you define these carefully as subsequent responses will be incorrect otherwise. \n",
    "\n",
    "<span style=\"color: red;\"> **Be Careful!**</span>  After defining these objects, don't reassign these variable names to a different object for the rest of the assignment."
   ]
  },
  {
   "cell_type": "code",
   "execution_count": 22,
   "id": "1e9acd73",
   "metadata": {},
   "outputs": [
    {
     "name": "stdout",
     "output_type": "stream",
     "text": [
      "[[ 1  5  3]\n",
      " [ 5 -4  2]\n",
      " [ 3  2  1]]\n",
      "[[ 0  1  3  9]\n",
      " [ 6 -1 -2 -9]\n",
      " [ 2  5  1  2]]\n",
      "[[  1   5 -13]\n",
      " [  7  -7   7]\n",
      " [  2  -3   1]\n",
      " [  0   7  -6]]\n",
      "[[ 1]\n",
      " [-3]\n",
      " [ 2]]\n",
      "[[-2]\n",
      " [ 4]\n",
      " [ 1]]\n",
      "[[-1]\n",
      " [10]\n",
      " [-1]\n",
      " [ 5]]\n"
     ]
    }
   ],
   "source": [
    "# Exercise 1 code\n",
    "import numpy as np\n",
    "A = np.array([[1,5,3],\n",
    "            [5,-4,2],\n",
    "            [3,2,1]])\n",
    "\n",
    "B = np.array([[0,1,3,9],\n",
    "             [6,-1,-2,-9],\n",
    "             [2,5,1,2]])\n",
    "\n",
    "C = np.array([[1,5,-13],\n",
    "             [7,-7,7],\n",
    "             [2,-3,1],\n",
    "             [0,7,-6]])\n",
    "\n",
    "d = np.array([[1],[-3],[2]])\n",
    "\n",
    "f = np.array([[-2],[4],[1]])\n",
    "\n",
    "g = np.array([[-1],[10],[-1],[5]])\n",
    "\n",
    "print(A)\n",
    "print(B)\n",
    "print(C)\n",
    "print(d)\n",
    "print(f)\n",
    "print(g)"
   ]
  },
  {
   "cell_type": "markdown",
   "id": "445dc79e",
   "metadata": {},
   "source": [
    "##  Exercise 2 -- Array Addition\n",
    "Is the operation $d + f$ possible? What about $d + g$? Why or why not? Answer in the markdown cell below. For each possible operation, print its result in the code cell below.\n"
   ]
  },
  {
   "cell_type": "markdown",
   "id": "cc2f0b28",
   "metadata": {},
   "source": [
    "Only d+f is possible as they have the same number of rows and columns, 3 and 1 respectively. g on the other hand has 4 rows and 1 column. Hence, an addition of matrices with unequal rows and columns will be impossible."
   ]
  },
  {
   "cell_type": "code",
   "execution_count": 15,
   "id": "36bb39c3",
   "metadata": {},
   "outputs": [
    {
     "name": "stdout",
     "output_type": "stream",
     "text": [
      "[[-1]\n",
      " [ 1]\n",
      " [ 3]]\n"
     ]
    }
   ],
   "source": [
    "# Exercise 2 code\n",
    "print(d+f)"
   ]
  },
  {
   "cell_type": "markdown",
   "id": "8dc481c1",
   "metadata": {},
   "source": [
    "### Response to Exercise 2"
   ]
  },
  {
   "cell_type": "markdown",
   "id": "7cffe2ea",
   "metadata": {},
   "source": [
    "## Exercise 3 -- Dot Product\n",
    "On a piece of paper or tablet, **legibly** calculate the dot product of $d$ and $f$. Label your response as \"Solution to Exercise 3\". Show your work as we did in lecture. Check your solution by calling `np.dot()` in the cell below. "
   ]
  },
  {
   "cell_type": "code",
   "execution_count": 27,
   "id": "f8328d5e",
   "metadata": {},
   "outputs": [
    {
     "name": "stdout",
     "output_type": "stream",
     "text": [
      "[[-12]]\n"
     ]
    }
   ],
   "source": [
    "# Exercise 3 code\n",
    "print(np.dot(d.T,f))"
   ]
  },
  {
   "cell_type": "markdown",
   "id": "1499a45d",
   "metadata": {},
   "source": [
    "## Exercise 4 -- Vector Slices\n",
    "Using only `g` and slice indexing, assign `[10 -1]` to `tiny_array`. What is the type of `tiny_array`? Why is this desirable behavior? Answer in Markdown. "
   ]
  },
  {
   "cell_type": "code",
   "execution_count": 38,
   "id": "edaadcc6",
   "metadata": {},
   "outputs": [
    {
     "name": "stdout",
     "output_type": "stream",
     "text": [
      "[[10]\n",
      " [-1]]\n",
      "<class 'numpy.ndarray'>\n"
     ]
    }
   ],
   "source": [
    "# Exercise 4 code\n",
    "tiny_array=g[1:3]\n",
    "print(tiny_array)\n",
    "print(type(tiny_array))"
   ]
  },
  {
   "cell_type": "markdown",
   "id": "8e87d5fa",
   "metadata": {},
   "source": [
    "### Response to Exercise 4\n",
    "It is desirable as it still keeps its original number of rows and columns which will make it easier for aggregation with other similar matrices."
   ]
  },
  {
   "cell_type": "markdown",
   "id": "bce70be0",
   "metadata": {},
   "source": [
    "## Exercise 5 -- Matrix Transposes and Addition\n",
    "On a piece of paper or tablet, **legibly** calculate the sum of $B$ and the transpose of $C$. Label your response as \"Solution to Exercise 5\". Show your work as we did in lecture. \n",
    "\n",
    "Check your solution in the cell below. Could we add $B$ and $C$? Answer in the Markdown cell below. "
   ]
  },
  {
   "cell_type": "code",
   "execution_count": 41,
   "id": "5459f3a6",
   "metadata": {
    "scrolled": true
   },
   "outputs": [
    {
     "name": "stdout",
     "output_type": "stream",
     "text": [
      "[[ 0  1  3  9]\n",
      " [ 6 -1 -2 -9]\n",
      " [ 2  5  1  2]]\n",
      "[[  1   7   2   0]\n",
      " [  5  -7  -3   7]\n",
      " [-13   7   1  -6]]\n",
      "[[  1   8   5   9]\n",
      " [ 11  -8  -5  -2]\n",
      " [-11  12   2  -4]]\n"
     ]
    }
   ],
   "source": [
    "# Exercise 5 code\n",
    "print(B)\n",
    "print(C.T)\n",
    "print(B+C.T)"
   ]
  },
  {
   "cell_type": "markdown",
   "id": "73d9ee90",
   "metadata": {},
   "source": [
    "### Response to Exercise 5\n",
    "No it cannot be done as if C is not transposed, the matrices will not be of the same size, hence addition will be impossible."
   ]
  },
  {
   "cell_type": "markdown",
   "id": "9143d0da",
   "metadata": {},
   "source": [
    "## Exercise 6 -- Matrix Indexing\n",
    "Complete the following steps:\n",
    "- Define a variable `tiny_mat` and set it equal to `np.array([[-7, 7], [-3, 1]])`.\n",
    "- Using only `C` and slice-indexing, recreate `tiny_mat` and assign it to `tiny_mat_clone`. \n",
    "- Define a funcion called `compare_arrs` that takes two arrays and prints \"Arrays are the same!\" if the arrays are the same and \"Arrays are different!\" if the arrays are different.  \n",
    "- Call `compare_arrs` on `tiny_mat` and `tiny_mat_clone`.\n",
    "- Call `compare_arrs` on `np.array([1, 3, 4])` and `tiny_mat_clone`. \n",
    "\n",
    "\n",
    "**Hint:** Use `np.array_equal()` within `compare_arrs`."
   ]
  },
  {
   "cell_type": "code",
   "execution_count": 42,
   "id": "7831a29d",
   "metadata": {},
   "outputs": [
    {
     "name": "stdout",
     "output_type": "stream",
     "text": [
      "[[  1   5 -13]\n",
      " [  7  -7   7]\n",
      " [  2  -3   1]\n",
      " [  0   7  -6]]\n"
     ]
    }
   ],
   "source": [
    "print(C)"
   ]
  },
  {
   "cell_type": "code",
   "execution_count": 66,
   "id": "ccf0fe9b",
   "metadata": {},
   "outputs": [
    {
     "data": {
      "text/plain": [
       "array([[-7,  7],\n",
       "       [-3,  1]])"
      ]
     },
     "execution_count": 66,
     "metadata": {},
     "output_type": "execute_result"
    }
   ],
   "source": [
    "# Exercise 6 -- Define Matrices\n",
    "tiny_mat=np.array([[-7,7],[-3,1]])\n",
    "tiny_mat_clone=C[1:3,1:3]\n",
    "tiny_mat_clone"
   ]
  },
  {
   "cell_type": "code",
   "execution_count": 67,
   "id": "5340e4cb",
   "metadata": {},
   "outputs": [],
   "source": [
    "# Exercise 6 -- Define Function\n",
    "def compare_arrs(array_1, array_2):\n",
    "    '''\n",
    "    This UDF takes takes two np.array as input and checks if they are of equal size\n",
    "    '''\n",
    "    \n",
    "    if np.array_equal(array_1,array_2):\n",
    "        print('Arrays are the same!!')\n",
    "    else:\n",
    "        print('Arrays are different!!')\n",
    "        return"
   ]
  },
  {
   "cell_type": "code",
   "execution_count": 68,
   "id": "3e32c3ad",
   "metadata": {
    "scrolled": true
   },
   "outputs": [
    {
     "name": "stdout",
     "output_type": "stream",
     "text": [
      "Arrays are the same!!\n",
      "Arrays are different!!\n"
     ]
    }
   ],
   "source": [
    "# Exercise 6 -- Call compare_arrs\n",
    "compare_arrs(tiny_mat,tiny_mat_clone)\n",
    "compare_arrs(np.array([1,3,4]),tiny_mat_clone)"
   ]
  },
  {
   "cell_type": "markdown",
   "id": "fe3bbe39",
   "metadata": {},
   "source": [
    "## Exercise 7 -- Symmetric Matrices\n",
    "A **symmetric matrix** is a matrix that is equal to its transpose. Using your function `compare_arrs`, test whether `A`, `B`, and `C` are symmetric. What does it say about the symmetry of a matrix when \"Arrays are the same!\" is printed? Answer in the Markdown cell below. "
   ]
  },
  {
   "cell_type": "code",
   "execution_count": 71,
   "id": "c6b6d501",
   "metadata": {
    "scrolled": true
   },
   "outputs": [
    {
     "name": "stdout",
     "output_type": "stream",
     "text": [
      "Arrays are different!!\n",
      "Arrays are different!!\n",
      "Arrays are different!!\n"
     ]
    }
   ],
   "source": [
    "# Exercise 7 code\n",
    "compare_arrs(A,B)\n",
    "compare_arrs(A,C)\n",
    "compare_arrs(B,C)"
   ]
  },
  {
   "cell_type": "markdown",
   "id": "9a11d543",
   "metadata": {},
   "source": [
    "### Response to Exercise 7\n",
    "It means that the matrices that are being compared by the function are of equal size that is, they have equal rows and columns."
   ]
  },
  {
   "cell_type": "markdown",
   "id": "e1b4c19e",
   "metadata": {},
   "source": [
    "## Exercise 8 -- Matrix Concatenation\n",
    "We can glue or **concatenate** two arrays together using `np.vstack()` and `np.hstack()`. Each function takes a list of arrays as an argument. The former concatenates two arrays vertically (think of stacking rectangles on top of eachother) while the latter concatenates them horizontally (think of stacking rectangles side-by-side).\n",
    "\n",
    "Answer the following questions below:\n",
    "- If we call `np.vstack([A, B])` and it executes successfully, what must be true about the size of `A `and `B`?\n",
    "- If we call `np.hstack([A, B])` and it executes successfully, what must be true about the size of `A `and `B`?\n",
    "\n",
    "**Hint:** Try concatenating two arrays until you get an error. What does the error say?"
   ]
  },
  {
   "cell_type": "code",
   "execution_count": 76,
   "id": "30265351",
   "metadata": {},
   "outputs": [
    {
     "name": "stdout",
     "output_type": "stream",
     "text": [
      "[[ 1  5  3]\n",
      " [ 5 -4  2]\n",
      " [ 3  2  1]]\n",
      "[[ 0  1  3  9]\n",
      " [ 6 -1 -2 -9]\n",
      " [ 2  5  1  2]]\n"
     ]
    },
    {
     "ename": "ValueError",
     "evalue": "all the input array dimensions for the concatenation axis must match exactly, but along dimension 1, the array at index 0 has size 3 and the array at index 1 has size 4",
     "output_type": "error",
     "traceback": [
      "\u001b[0;31m---------------------------------------------------------------------------\u001b[0m",
      "\u001b[0;31mValueError\u001b[0m                                Traceback (most recent call last)",
      "Input \u001b[0;32mIn [76]\u001b[0m, in \u001b[0;36m<cell line: 4>\u001b[0;34m()\u001b[0m\n\u001b[1;32m      2\u001b[0m \u001b[38;5;28mprint\u001b[39m(A)\n\u001b[1;32m      3\u001b[0m \u001b[38;5;28mprint\u001b[39m(B)\n\u001b[0;32m----> 4\u001b[0m \u001b[43mnp\u001b[49m\u001b[38;5;241;43m.\u001b[39;49m\u001b[43mvstack\u001b[49m\u001b[43m(\u001b[49m\u001b[43m[\u001b[49m\u001b[43mA\u001b[49m\u001b[43m,\u001b[49m\u001b[43mB\u001b[49m\u001b[43m]\u001b[49m\u001b[43m)\u001b[49m\n",
      "File \u001b[0;32m<__array_function__ internals>:5\u001b[0m, in \u001b[0;36mvstack\u001b[0;34m(*args, **kwargs)\u001b[0m\n",
      "File \u001b[0;32m~/opt/anaconda3/lib/python3.9/site-packages/numpy/core/shape_base.py:282\u001b[0m, in \u001b[0;36mvstack\u001b[0;34m(tup)\u001b[0m\n\u001b[1;32m    280\u001b[0m \u001b[38;5;28;01mif\u001b[39;00m \u001b[38;5;129;01mnot\u001b[39;00m \u001b[38;5;28misinstance\u001b[39m(arrs, \u001b[38;5;28mlist\u001b[39m):\n\u001b[1;32m    281\u001b[0m     arrs \u001b[38;5;241m=\u001b[39m [arrs]\n\u001b[0;32m--> 282\u001b[0m \u001b[38;5;28;01mreturn\u001b[39;00m \u001b[43m_nx\u001b[49m\u001b[38;5;241;43m.\u001b[39;49m\u001b[43mconcatenate\u001b[49m\u001b[43m(\u001b[49m\u001b[43marrs\u001b[49m\u001b[43m,\u001b[49m\u001b[43m \u001b[49m\u001b[38;5;241;43m0\u001b[39;49m\u001b[43m)\u001b[49m\n",
      "File \u001b[0;32m<__array_function__ internals>:5\u001b[0m, in \u001b[0;36mconcatenate\u001b[0;34m(*args, **kwargs)\u001b[0m\n",
      "\u001b[0;31mValueError\u001b[0m: all the input array dimensions for the concatenation axis must match exactly, but along dimension 1, the array at index 0 has size 3 and the array at index 1 has size 4"
     ]
    }
   ],
   "source": [
    "# Exercise 8 -- Test vstack and hstack here as needed\n",
    "print(A)\n",
    "print(B)\n",
    "np.vstack([A,B])"
   ]
  },
  {
   "cell_type": "code",
   "execution_count": 78,
   "id": "404f8721",
   "metadata": {},
   "outputs": [
    {
     "name": "stdout",
     "output_type": "stream",
     "text": [
      "[[ 1  5  3  0  1  3  9]\n",
      " [ 5 -4  2  6 -1 -2 -9]\n",
      " [ 3  2  1  2  5  1  2]]\n"
     ]
    }
   ],
   "source": [
    "print(np.hstack([A,B]))"
   ]
  },
  {
   "cell_type": "markdown",
   "id": "08e35010",
   "metadata": {},
   "source": [
    "### Response to Exercise 8\n",
    "When using V stack on A and B the error says that 'array at index o has size 3 and the array at index 1 has size 4'. Showing that they cannot be vertically concatenated due to the unequal columns of the 2 matrices.\n",
    "Instead, the H stack works, showing that the 2 matrices instead have equal number of rows."
   ]
  },
  {
   "cell_type": "markdown",
   "id": "76713bcd",
   "metadata": {},
   "source": [
    "## Exercise 9 -- Element-Wise Multiplication\n",
    "On a piece of paper or tablet, **legibly** calculate the element-wise multiplication of $B$ and the transpose of $C$. Label your response as \"Solution to Exercise 9\". Show your work as we did in lecture. \n",
    "\n",
    "Check your solution in the cell below."
   ]
  },
  {
   "cell_type": "code",
   "execution_count": 81,
   "id": "a7148441",
   "metadata": {},
   "outputs": [
    {
     "name": "stdout",
     "output_type": "stream",
     "text": [
      "[[ 0  1  3  9]\n",
      " [ 6 -1 -2 -9]\n",
      " [ 2  5  1  2]]\n",
      "[[  1   5 -13]\n",
      " [  7  -7   7]\n",
      " [  2  -3   1]\n",
      " [  0   7  -6]]\n",
      "[[  1   7   2   0]\n",
      " [  5  -7  -3   7]\n",
      " [-13   7   1  -6]]\n",
      "[[  0   7   6   0]\n",
      " [ 30   7   6 -63]\n",
      " [-26  35   1 -12]]\n"
     ]
    }
   ],
   "source": [
    "# Exercise 9 Code\n",
    "print(B)\n",
    "print(C)\n",
    "print(C.T)\n",
    "print(B*C.T)"
   ]
  },
  {
   "cell_type": "markdown",
   "id": "74af3830",
   "metadata": {},
   "source": [
    "## Exercise 10 -- Matrix Multiplication\n",
    "On a piece of paper or tablet, **legibly** complete the following matrix multiplication (not element-wise multiplication!) exercise:\n",
    "$$A * B$$\n",
    "\n",
    "\n",
    "\n",
    "\n",
    "Label your response as \"Solution to Exercise 10\". Show your work as we did in lecture. \n",
    "\n",
    "Check your solution in the cell below uinsg `np.matmul()`."
   ]
  },
  {
   "cell_type": "code",
   "execution_count": 83,
   "id": "4e2798fb",
   "metadata": {},
   "outputs": [
    {
     "name": "stdout",
     "output_type": "stream",
     "text": [
      "[[ 1  5  3]\n",
      " [ 5 -4  2]\n",
      " [ 3  2  1]]\n",
      "[[ 0  1  3  9]\n",
      " [ 6 -1 -2 -9]\n",
      " [ 2  5  1  2]]\n"
     ]
    },
    {
     "data": {
      "text/plain": [
       "array([[ 36,  11,  -4, -30],\n",
       "       [-20,  19,  25,  85],\n",
       "       [ 14,   6,   6,  11]])"
      ]
     },
     "execution_count": 83,
     "metadata": {},
     "output_type": "execute_result"
    }
   ],
   "source": [
    "# Exercise 10 Code\n",
    "print(A)\n",
    "print(B)\n",
    "np.matmul(A,B)"
   ]
  },
  {
   "cell_type": "markdown",
   "id": "0ee66928",
   "metadata": {},
   "source": [
    "## Exercise 11 -- Plotting with `np.linspace`\n",
    "Using `numpy` and `matplotlib.pyplot`, plot the function `sin(log(x))`.\n",
    "Make sure you use a fine grid. \n",
    "\n",
    "**Hint:** Look at lectures for hints. "
   ]
  },
  {
   "cell_type": "code",
   "execution_count": 96,
   "id": "ea993843",
   "metadata": {},
   "outputs": [
    {
     "name": "stderr",
     "output_type": "stream",
     "text": [
      "/var/folders/h4/sgdpt_8x3430bkcv7k2yc6k40000gn/T/ipykernel_81468/1484697663.py:4: RuntimeWarning: divide by zero encountered in log\n",
      "  y=np.sin(np.log(x))\n",
      "/var/folders/h4/sgdpt_8x3430bkcv7k2yc6k40000gn/T/ipykernel_81468/1484697663.py:4: RuntimeWarning: invalid value encountered in sin\n",
      "  y=np.sin(np.log(x))\n"
     ]
    },
    {
     "data": {
      "image/png": "[encoded data removed]",
      "text/plain": [
       "<Figure size 432x288 with 1 Axes>"
      ]
     },
     "metadata": {
      "needs_background": "light"
     },
     "output_type": "display_data"
    }
   ],
   "source": [
    "# Exercise 11 Code\n",
    "import matplotlib.pyplot as plt\n",
    "x=np.linspace(0,25,100)\n",
    "y=np.sin(np.log(x))\n",
    "plt.plot(x,y)\n",
    "plt.show()"
   ]
  },
  {
   "cell_type": "markdown",
   "id": "e9452e99",
   "metadata": {},
   "source": [
    "## Exercise 12 -- Multidimensional Arrays\n",
    "Run the following command `print(zeros((3,4,5)))` in the cell below and answer the following questions in the Markdown cell below.\n",
    "1. What do you think the dimensionality of this array is?  \n",
    "2. Why would writing this array on paper be difficult? \n",
    "\n"
   ]
  },
  {
   "cell_type": "code",
   "execution_count": 97,
   "id": "541190ea",
   "metadata": {
    "scrolled": true
   },
   "outputs": [
    {
     "ename": "NameError",
     "evalue": "name 'zeros' is not defined",
     "output_type": "error",
     "traceback": [
      "\u001b[0;31m---------------------------------------------------------------------------\u001b[0m",
      "\u001b[0;31mNameError\u001b[0m                                 Traceback (most recent call last)",
      "Input \u001b[0;32mIn [97]\u001b[0m, in \u001b[0;36m<cell line: 2>\u001b[0;34m()\u001b[0m\n\u001b[1;32m      1\u001b[0m \u001b[38;5;66;03m# Exercise 12 Code\u001b[39;00m\n\u001b[0;32m----> 2\u001b[0m \u001b[38;5;28mprint\u001b[39m(\u001b[43mzeros\u001b[49m((\u001b[38;5;241m3\u001b[39m,\u001b[38;5;241m4\u001b[39m,\u001b[38;5;241m5\u001b[39m)))\n",
      "\u001b[0;31mNameError\u001b[0m: name 'zeros' is not defined"
     ]
    }
   ],
   "source": [
    "# Exercise 12 Code\n",
    "print(zeros((3,4,5)))"
   ]
  },
  {
   "cell_type": "markdown",
   "id": "bb249cad",
   "metadata": {},
   "source": [
    "### Response to Exercise 12"
   ]
  }
 ],
 "metadata": {
  "kernelspec": {
   "display_name": "Python 3 (ipykernel)",
   "language": "python",
   "name": "python3"
  },
  "language_info": {
   "codemirror_mode": {
    "name": "ipython",
    "version": 3
   },
   "file_extension": ".py",
   "mimetype": "text/x-python",
   "name": "python",
   "nbconvert_exporter": "python",
   "pygments_lexer": "ipython3",
   "version": "3.9.12"
  }
 },
 "nbformat": 4,
 "nbformat_minor": 5
}
