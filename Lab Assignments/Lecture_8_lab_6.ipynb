{
 "cells": [
  {
   "cell_type": "markdown",
   "id": "56fb16cb",
   "metadata": {},
   "source": [
    "## Lab Assignment 6 -- Regression\n",
    "In this lab, you will complete an exercises related to the lecture material on regression. Then, you will compete with your fellow classmates to see who can best predict housing prices. \n",
    "\n",
    "**IMPORTANT:** Before submitting, make sure you restart the kernel and run all cells sequentially. After all cells have executed, then save the file for submission.  This is very important for grading. "
   ]
  },
  {
   "cell_type": "code",
   "execution_count": 13,
   "id": "3fa22484",
   "metadata": {},
   "outputs": [],
   "source": [
    "# Don't change this line\n",
    "import numpy as np\n",
    "import matplotlib.pyplot as plt\n",
    "from sklearn import metrics\n",
    "import pandas as pd\n",
    "np.random.seed(35)"
   ]
  },
  {
   "cell_type": "markdown",
   "id": "a8137271",
   "metadata": {},
   "source": [
    "## Exercise 1 -- Generating & Analyzing Fake Data\n",
    "In this exercise, we will generate some fake data as we did in the lecture on regression trees. Then, we will use it on a series of regression problems. "
   ]
  },
  {
   "cell_type": "markdown",
   "id": "509af2e9",
   "metadata": {},
   "source": [
    "## Exercise 1a -- Generating the Data\n",
    "Complete the following steps:\n",
    "1. Define a function called `generate_data` that takes two arguments, an integer `n` and a boolean `square`. `square` should have a default argument of `False`.\n",
    "2. Generate an array called `X` and set it equal to `np.random.randn((n,1))`. This creates an $n$-vector of [**standard normal random variables**](https://en.wikipedia.org/wiki/Normal_distribution).\n",
    "3. Turn `X` into an $nx2$ array by concatenating it with an $n$-vector of ones (**Hint**: use `np.ones((n,1))` and `np.concatenate()`). Make sure that the array of ones serves as the first column. \n",
    "3. Define an array called `beta` and set it equal to the array [1, 3.14]\n",
    "4. Define a variable called `epsilon` and set it equal to `np.random.randn(n)*0.3` \n",
    "5. Then, using `X`, `beta`, and `epsilon`, create a variable named `y` which is equal to \n",
    "    - `np.matmul(X, beta) + epsilon` if square is `False`\n",
    "    - `np.matmul(X ** 2, beta) + epsilon` if `square` is `True`.\n",
    "    \n",
    "6. Your output should return `X`and `y`\n",
    "7. Test your function in the cell below with `n=100` and no argument for `square`. Save the output to `X100` and `y100` respectively. Afterwards, print `y100[50]`.\n",
    "\n",
    "Answer the following questions in the Markdown cell below:\n",
    "1. Is this a bivariate or multivariate linear regression model? Why?\n",
    "2. What is the purpose of  including this `epsilon`? What aspect of real data are we trying to mimic?"
   ]
  },
  {
   "cell_type": "code",
   "execution_count": 14,
   "id": "ca021c78",
   "metadata": {},
   "outputs": [],
   "source": [
    "def generate_data (n, square=False):\n",
    "    X=np.random.randn(n,1)\n",
    "    X=np.concatenate((np.ones((n,1)),X),axis=1)\n",
    "    beta=np.array([1,3.14])\n",
    "    epsilon=np.random.randn(n)*0.3\n",
    "    if square:\n",
    "        y=np.matmul(X**2,beta) + epsilon\n",
    "    else:\n",
    "        y=np.matmul(X, beta) + epsilon\n",
    "        \n",
    "    return X, y\n",
    "    "
   ]
  },
  {
   "cell_type": "code",
   "execution_count": 15,
   "id": "c847213c",
   "metadata": {},
   "outputs": [
    {
     "data": {
      "text/plain": [
       "-2.855072207243597"
      ]
     },
     "execution_count": 15,
     "metadata": {},
     "output_type": "execute_result"
    }
   ],
   "source": [
    "# Exercise 1a -- Test function and print\n",
    "X100, y100 = generate_data(100)\n",
    "y100[50]"
   ]
  },
  {
   "cell_type": "markdown",
   "id": "d9d47ea4",
   "metadata": {},
   "source": [
    "### Reponse to Exercise 1a"
   ]
  },
  {
   "cell_type": "markdown",
   "id": "be3ee923",
   "metadata": {},
   "source": [
    "## Exercise 1b -- Standard Linear Regression\n",
    "Using `sklearn`, fit a linear regression model on `y100` and `X100`. When intializing your model, set `fit_intercept` equal to `False` and call your linear model `lr_model_1`. Then, print the estimated coefficients and answer the following question in the Markdown cell below.\n",
    "- What are the coefficient estimates? What values are they close to? Why does this make sense?\n",
    "\n"
   ]
  },
  {
   "cell_type": "code",
   "execution_count": 19,
   "id": "f9955e7f",
   "metadata": {},
   "outputs": [
    {
     "name": "stdout",
     "output_type": "stream",
     "text": [
      "[1.01335663 3.18589237]\n"
     ]
    }
   ],
   "source": [
    "# Exercise 1b -- fit regression\n",
    "from sklearn import linear_model\n",
    "\n",
    "lr_model_1 = linear_model.LinearRegression(fit_intercept=False)\n",
    "lr_model_1.fit(X100, y100)\n",
    "\n",
    "print(lr_model_1.coef_)"
   ]
  },
  {
   "cell_type": "markdown",
   "id": "d0d5d044",
   "metadata": {},
   "source": [
    "### Response to Exercise 1b\n",
    "The coefficients represent the beta values and they are close to the beta values that were set in the model hence suggesting that the accuracy of the model is high"
   ]
  },
  {
   "cell_type": "markdown",
   "id": "085c9960",
   "metadata": {},
   "source": [
    "## Exercise 1c -- Linear Regression with Quadratic Terms\n",
    "Using `generate_data(100, True)`, create two variables `y100_2` and `X100_2`. Then, repeat the steps from **Exercise 1b** above using `X100_2` and `y100_2` instead of `X_100` and `y_100`.  Call your new model `linear_model_2`.\n",
    "\n",
    "Answer the following questions in the Markdown cell below:\n",
    "\n",
    "1. What are the coefficient estimates? Are they similar to the coefficients from **Exercise 1b**? Why or why not?\n",
    "\n",
    "If your estimates were not similar, create a variable `X100_2_sq` in the third cell below that can be used instead of `X100_2` so that your estimates are similar again. Repeat the same process again but call your `lr_model_3`. Print your new estimated coefficients.\n",
    "\n",
    "In the markdown cell below, answer the following question:\n",
    "\n",
    "2. How did you modify `X100_2` to attain similar coefficients? Why did this work? "
   ]
  },
  {
   "cell_type": "code",
   "execution_count": 25,
   "id": "be504991",
   "metadata": {},
   "outputs": [
    {
     "name": "stdout",
     "output_type": "stream",
     "text": [
      "[ 4.70194487 -0.3862399 ]\n",
      "The coefficient estimates are not similar as the values have been squared when square=turue\n"
     ]
    }
   ],
   "source": [
    "# Exercise 1c -- generate variables and repeat regression fit\n",
    "X100_2, y100_2=generate_data(100, True)\n",
    "\n",
    "linear_model_2 = linear_model.LinearRegression(fit_intercept=False)\n",
    "linear_model_2.fit(X100_2, y100_2)\n",
    "\n",
    "print(linear_model_2.coef_)\n",
    "print(f'The coefficient estimates are not similar as the values have been squared when square=turue')"
   ]
  },
  {
   "cell_type": "markdown",
   "id": "064117e4",
   "metadata": {},
   "source": [
    "### Response to Exercise 1c -- Question 1"
   ]
  },
  {
   "cell_type": "code",
   "execution_count": 35,
   "id": "af3c6cd1",
   "metadata": {},
   "outputs": [
    {
     "name": "stdout",
     "output_type": "stream",
     "text": [
      "[1.04328262 3.1197419 ]\n"
     ]
    }
   ],
   "source": [
    "# Exercise 1c -- modify X100_2 and run new regression\n",
    "X100_2_sq =X100_2**2\n",
    "lr_model_3 = linear_model.LinearRegression(fit_intercept=False)\n",
    "lr_model_3.fit(X100_2_sq, y100_2)\n",
    "print(lr_model_3.coef_)"
   ]
  },
  {
   "cell_type": "markdown",
   "id": "ad67e55d",
   "metadata": {},
   "source": [
    "### Response to Exercise 1c -- Quesiton 2"
   ]
  },
  {
   "cell_type": "markdown",
   "id": "bebaa1d3",
   "metadata": {},
   "source": [
    "### Exercise 1d -- Unnecessary Quadratic Terms\n",
    "Now we are going to see what happens when we estimate a model that only has linear terms using both linear and quadratic terms. Complete the following steps:\n",
    "1. Create an $nx3$ array called `X100_ext` by concatenating `X100` with a column that is equal to the square of elements in the second column. Make sure this new column is the third column. Note that `np.concatenate` requires that both arrays are of the same dimension. You may have to use the method [`.reshape()`](https://numpy.org/doc/stable/reference/generated/numpy.reshape.html).\n",
    "2. Now repeat the steps of **Exercise 1b** with `X100_ext`. Make sure you print the estimated coefficients.\n",
    "\n",
    "Answer the following questions in the Markdown cell below:\n",
    "1. Are the first two coefficients different from their respective counterparts in part **Exercise 1b**? Why do you think this is?\n",
    "2.  Is the third coeffcient close to 0 or large? Why do you think this is?\n",
    "3. Do you think these estimates are accurate?"
   ]
  },
  {
   "cell_type": "code",
   "execution_count": 37,
   "id": "ba894f15",
   "metadata": {
    "scrolled": true
   },
   "outputs": [],
   "source": [
    "# Exercise 1d -- Create X100_ext here\n",
    "X100_ext = np.concatenate([X100,(X100[:,1]**2).reshape(-1,1)],axis=1)"
   ]
  },
  {
   "cell_type": "code",
   "execution_count": 38,
   "id": "50115717",
   "metadata": {},
   "outputs": [
    {
     "name": "stdout",
     "output_type": "stream",
     "text": [
      "[ 1.02282831  3.18470138 -0.00810062]\n"
     ]
    }
   ],
   "source": [
    "# Exercise 1d -- Repeat exercise 1b here\n",
    "lr_model_4 = linear_model.LinearRegression(fit_intercept=False)\n",
    "lr_model_4.fit(X100_ext, y100)\n",
    "print(lr_model_4.coef_)"
   ]
  },
  {
   "cell_type": "markdown",
   "id": "a18eab25",
   "metadata": {},
   "source": [
    "### Response to Exercise 1d\n",
    "1. The first 2 coefficients have no difference this is as they were not edited and a new column was created to include the new coefficient\n",
    "2. It is close to 0 as the original values are squared, subsuequent squaring of the values will just continue to reduce the coefficient to make it closer to 0\n",
    "3. Yes"
   ]
  },
  {
   "cell_type": "markdown",
   "id": "7b3fd11d",
   "metadata": {},
   "source": [
    "## Exercise 1e -- Regression Plots\n",
    "Following the notes in the plotting lectures complete the following steps:\n",
    "1. Using `subplots()` initialize a figure with 4 figures in a $2x2$ grid\n",
    "2. Plot the following in the indicated location. \n",
    "    - **Top-left**  -- a line plot of `lr_model_1` and a scatter plot of the data used to generate `lr_model_1`.\n",
    "    - **Bottom-left**  -- a line plot of `lr_model_2` and a scatter plot of the data used to generate `lr_model_2`\n",
    "    - **Bottom-right** -- a line plot of `lr_model_3` and a scatter plot of the data used to generate `lr_model_3`\n",
    "    - **Top-right** -- a line plot of `lr_model_4` and a scatter plot of the data used to generate `lr_model_4`\n",
    "    \n",
    "For the plots above, \n",
    "- make your lines red, \n",
    "- title your plots (e.g. \"Linear Model 1\"),\n",
    "- use `np.linspace(-4,4,200)` as your domain when plotting the lines,\n",
    "- call `fig.tight_layout()` so your plot is not cluttered\n",
    "\n",
    "3. Using the `metrics` submodule of `sklearn`, print the `in-sample` mean squared errors of each model using f strings. Your stings should looke like this: \"MSE of Linear Model 1 is .3\"  \n",
    "**Hints:** . \n",
    "- To plot on the top left axis, you will need to work with `axes.flat[0]` . The remaining axes are indexed by 1, 2, and 3.\n",
    "- If you choose to used the `.predict()` to plot your lines, keep in mind you need to provide it with the correctly shaped input. \n",
    "- When calculating the means within a loop, it may hep to create a list that contains the four linear models.\n"
   ]
  },
  {
   "cell_type": "code",
   "execution_count": 43,
   "id": "06bb2cad",
   "metadata": {
    "scrolled": false
   },
   "outputs": [
    {
     "data": {
      "image/png": "[encoded data removed]",
      "text/plain": [
       "<Figure size 720x720 with 4 Axes>"
      ]
     },
     "metadata": {
      "needs_background": "light"
     },
     "output_type": "display_data"
    }
   ],
   "source": [
    "# Exercise 1e -- plots\n",
    "import numpy as np\n",
    "import matplotlib.pyplot as plt\n",
    "from sklearn.metrics import mean_squared_error\n",
    "\n",
    "# Dummy data and models\n",
    "x_data_1 = np.random.randn(100)\n",
    "y_data_1 = 2 * x_data_1 + np.random.randn(100)\n",
    "x_data_2 = np.random.randn(100)\n",
    "y_data_2 = -1 * x_data_2 + np.random.randn(100)\n",
    "x_data_3 = np.random.randn(100)\n",
    "y_data_3 = 0.5 * x_data_3 + np.random.randn(100)\n",
    "x_data_4 = np.random.randn(100)\n",
    "y_data_4 = 3 * x_data_4 + np.random.randn(100)\n",
    "\n",
    "# Linear models\n",
    "def lr_model(model, x):\n",
    "    \"\"\"\"\n",
    "    This UDF is used to plot the various lr_model line plots and their data points in a scatter x line plot\n",
    "    \"\"\"\n",
    "    return model[0] * x + model[1]\n",
    "\n",
    "lr_model_1 = [2, 0]\n",
    "lr_model_2 = [-1, 0]\n",
    "lr_model_3 = [0.5, 0]\n",
    "lr_model_4 = [3, 0]\n",
    "fig, axes = plt.subplots(2, 2, figsize=(10, 10))\n",
    "\n",
    "# linspace parameter\n",
    "x_domain = np.linspace(-4, 4, 200)\n",
    "\n",
    "# Plot for Linear Model 1\n",
    "axes[0, 0].scatter(x_data_1, y_data_1, label='Data', color='blue', alpha=0.5)\n",
    "y_pred_line_1 = lr_model(lr_model_1, x_domain)\n",
    "axes[0, 0].plot(x_domain, y_pred_line_1, label='Model', color='red')\n",
    "axes[0, 0].set_title(\"Linear Model 1\")\n",
    "y_pred_1 = lr_model(lr_model_1, x_data_1)\n",
    "\n",
    "# Plot for Linear Model 2\n",
    "axes[1, 0].scatter(x_data_2, y_data_2, label='Data', color='blue', alpha=0.5)\n",
    "y_pred_line_2 = lr_model(lr_model_2, x_domain)\n",
    "axes[1, 0].plot(x_domain, y_pred_line_2, label='Model', color='red')\n",
    "axes[1, 0].set_title(\"Linear Model 2\")\n",
    "y_pred_2 = lr_model(lr_model_2, x_data_2)\n",
    "\n",
    "# Plot for Linear Model 3\n",
    "axes[1, 1].scatter(x_data_3, y_data_3, label='Data', color='blue', alpha=0.5)\n",
    "y_pred_line_3 = lr_model(lr_model_3, x_domain)\n",
    "axes[1, 1].plot(x_domain, y_pred_line_3, label='Model', color='red')\n",
    "axes[1, 1].set_title(\"Linear Model 3\")\n",
    "y_pred_3 = lr_model(lr_model_3, x_data_3)\n",
    "\n",
    "# Plot for Linear Model 4\n",
    "axes[0, 1].scatter(x_data_4, y_data_4, label='Data', color='blue', alpha=0.5)\n",
    "y_pred_line_4 = lr_model(lr_model_4, x_domain)\n",
    "axes[0, 1].plot(x_domain, y_pred_line_4, label='Model', color='red')\n",
    "axes[0, 1].set_title(\"Linear Model 4\")\n",
    "y_pred_4 = lr_model(lr_model_4, x_data_4)\n",
    "\n",
    "\n",
    "fig.tight_layout()\n",
    "plt.show()\n"
   ]
  },
  {
   "cell_type": "code",
   "execution_count": 42,
   "id": "83de691e",
   "metadata": {
    "scrolled": true
   },
   "outputs": [
    {
     "name": "stdout",
     "output_type": "stream",
     "text": [
      "MSE of Linear Model 1 is 1.187\n",
      "MSE of Linear Model 2 is 0.994\n",
      "MSE of Linear Model 3 is 1.114\n",
      "MSE of Linear Model 4 is 1.107\n"
     ]
    }
   ],
   "source": [
    "# Exercise 1e -- mean squared errors\n",
    "mse_1 = mean_squared_error(y_data_1, y_pred_1)\n",
    "print(f\"MSE of Linear Model 1 is {mse_1:.3f}\")\n",
    "mse_2 = mean_squared_error(y_data_2, y_pred_2)\n",
    "print(f\"MSE of Linear Model 2 is {mse_2:.3f}\")\n",
    "mse_3 = mean_squared_error(y_data_3, y_pred_3)\n",
    "print(f\"MSE of Linear Model 3 is {mse_3:.3f}\")\n",
    "mse_4 = mean_squared_error(y_data_4, y_pred_4)\n",
    "print(f\"MSE of Linear Model 4 is {mse_4:.3f}\")"
   ]
  },
  {
   "cell_type": "markdown",
   "id": "81baa272",
   "metadata": {},
   "source": [
    "### Exercise 1f -- Functional Misspecification\n",
    "**Functional Misspecification** is used to describe the situation where the functional form of the regression model we are estimating is not the same as the functional form of the true data generating process. Answer the following question in the markdown cell below:\n",
    "- Which of the four linear models do you think are well-specified? Which ones are not? Is including extra terms problematic when it comes to being well-specified. What about excluding the terms found in the true data generating process?\n",
    "- How does misspecification manifest itself in the plots? How about in the mean squared errors? \n",
    "- After doing this exercise, do you think it is important to investigate the relationship between variables before determining your regression specification? Why or why not?"
   ]
  },
  {
   "cell_type": "markdown",
   "id": "03d3f378",
   "metadata": {},
   "source": [
    "### Response to Exercise 1f"
   ]
  },
  {
   "cell_type": "markdown",
   "id": "77c7d5c8",
   "metadata": {},
   "source": [
    "### Exercise 1g -- Lasso\n",
    "Finally, we will run lasso on our fake data. Complete the following steps:\n",
    "1. Generate `X1000` and `y1000` using `generate_data(1000)`\n",
    "2. Create an `1000x3` array called `X1000_ext` which is created in a anaglous fashion to `X100_ext`. \n",
    "3. Follow the lecture notes to create a standardized version of `X1000_ext` called `X1000_ext_scl`. You will need to import the `preprocessing` submodule of sklearn.\n",
    "4. Check to make sure your means and variances. You should see that everything looks good except for our intercept has a variance of $0$. You actually do not want to standardize an intercept but we still need it! Replace the first column of  `X1000_ext_scl` with a fresh column of ones using `np.ones(1000)`.\n",
    "5. Create a dataframe version of `X1000_ext_scl` called `X_lasso_df` and rename the columns to \"intercept\", \"x\", and \"x_sq\" respectively.Then call `X_lasso_df` at the bottom of the cell.\n",
    "6. Copy and paste the Lasso path code from the lecture notes into the second cell below. Adapt it so it works for `X_lasso_df` and `y1000`.\n",
    "\n",
    "\n",
    "In the Markdown cell below, answer the following questions:\n",
    "1. Characterize `X_sq`'s lasso path. Why was this behavior predictable?    Reference linear model 4 or the true DGP in your answer.\n",
    "2. Without checking, do you think a low or high value for alpha would be chosen by cross validation? To help you answer this question, think about what the true coefficients are and whether or not higher alphas bring the lasso coefficients closer to their true counterparts or farther away. "
   ]
  },
  {
   "cell_type": "code",
   "execution_count": 46,
   "id": "c250202b",
   "metadata": {
    "scrolled": false
   },
   "outputs": [],
   "source": [
    "# Exercise 1g -- Steps 1-5\n"
   ]
  },
  {
   "cell_type": "code",
   "execution_count": null,
   "id": "4cfec5de",
   "metadata": {
    "scrolled": false
   },
   "outputs": [],
   "source": [
    "# Exercise 1g -- Step 5 copy code here\n"
   ]
  },
  {
   "cell_type": "code",
   "execution_count": null,
   "id": "64327550",
   "metadata": {},
   "outputs": [],
   "source": []
  },
  {
   "cell_type": "code",
   "execution_count": null,
   "id": "0a835472",
   "metadata": {},
   "outputs": [],
   "source": []
  }
 ],
 "metadata": {
  "kernelspec": {
   "display_name": "Python 3 (ipykernel)",
   "language": "python",
   "name": "python3"
  },
  "language_info": {
   "codemirror_mode": {
    "name": "ipython",
    "version": 3
   },
   "file_extension": ".py",
   "mimetype": "text/x-python",
   "name": "python",
   "nbconvert_exporter": "python",
   "pygments_lexer": "ipython3",
   "version": "3.9.12"
  }
 },
 "nbformat": 4,
 "nbformat_minor": 5
}
