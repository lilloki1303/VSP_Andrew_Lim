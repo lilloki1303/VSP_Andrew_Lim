{
 "cells": [
  {
   "cell_type": "markdown",
   "id": "53bab78b0d66b246",
   "metadata": {},
   "source": [
    "# Lab Assignment # 2 - Collections"
   ]
  },
  {
   "cell_type": "markdown",
   "id": "c980b9461542bf99",
   "metadata": {},
   "source": [
    "## Exercise 1 -- Comparison Operators\n",
    "Using `num_list` and list comprehensions, create three lists that correspond to the elements in num_list:\n",
    "1. `equal_list` whose elements should be true if the corresponding element in `num_list` is equal to 0 and false otherwise.\n",
    "2. `greater_list` whose elements should be true if the corresponding element in `num_list` is strictly greater than 0 and false otherwise.\n",
    "3. `lesser_list` whose elements should be true if the corresponding element in `num_list` is strictly less than 0 and false otherwise.\n",
    "4. Finally, using the three lists you generated, list comprehensions, and `zip()`, create `true_list` a list of length 7 where every element is true. \n",
    "\n",
    "**Hints for 4:** \n",
    "- `zip` can be used on more than two lists\n",
    "- use `or` within the list comprehension"
   ]
  },
  {
   "cell_type": "code",
   "execution_count": 1,
   "id": "2e353f3a5c8caeb4",
   "metadata": {},
   "outputs": [
    {
     "name": "stdout",
     "output_type": "stream",
     "text": [
      "[False, False, False, True, False, False, False]\n",
      "[False, False, False, False, True, True, True]\n",
      "[True, True, True, False, False, False, False]\n",
      "[True, True, True, True, True, True, True]\n"
     ]
    }
   ],
   "source": [
    "# Exercise 1 Code\n",
    "# Don't edit the line below\n",
    "num_list = [-5, -3, -1, 0, 1, 3, 5]\n",
    "\n",
    "# your code below here\n",
    "equal_list = [num_list[0]==0,\n",
    "              num_list[1]==0,\n",
    "              num_list[2]==0,\n",
    "              num_list[3]==0,\n",
    "              num_list[4]==0,\n",
    "              num_list[5]==0,\n",
    "              num_list[6]==0\n",
    "             ]             \n",
    "greater_list = [num_list[0]>0,\n",
    "                num_list[1]>0,\n",
    "                num_list[2]>0,\n",
    "                num_list[3]>0,\n",
    "                num_list[4]>0,\n",
    "                num_list[5]>0,\n",
    "                num_list[6]>0\n",
    "               ]\n",
    "lesser_list = [num_list[0]<0,\n",
    "                num_list[1]<0,\n",
    "                num_list[2]<0,\n",
    "                num_list[3]<0,\n",
    "                num_list[4]<0,\n",
    "                num_list[5]<0,\n",
    "                num_list[6]<0\n",
    "               ]\n",
    "true_list= [eq or gt or lt for eq, gt, lt in zip(equal_list, greater_list, lesser_list)]\n",
    "print(equal_list)\n",
    "print(greater_list)\n",
    "print(lesser_list)\n",
    "print(true_list)"
   ]
  },
  {
   "cell_type": "markdown",
   "id": "af64d7ed5202ea4",
   "metadata": {},
   "source": [
    "## Exercise 2 -- Lists\n",
    "Complete the following steps in the cells below:\n",
    "1. Add two different elements from `num_list` together so that the sum is 0. Print the result.\n",
    "2. Using `.append()`, add a 7 to the end of `num_list`\n",
    "3. Using `.insert()`, add a -7 to the start of `num_list`\n",
    "3. Change each element of `num_list` individually so that it it is equal to the list `[-4, -3, -2, -1, 0, 1, 2, 3, 4]`\n",
    "4. Use the list method `.reverse()` on `num_list` then print `num_list`. What does `.reverse()` do?  Did `.reverse()` change `num_list`?  Answer in the Markdown Cell.\n"
   ]
  },
  {
   "cell_type": "code",
   "execution_count": 2,
   "id": "d7b462dd84d7b94a",
   "metadata": {},
   "outputs": [
    {
     "name": "stdout",
     "output_type": "stream",
     "text": [
      "0\n",
      "[-5, -3, -1, 0, 1, 3, 5, 7]\n",
      "['-7', -5, -3, -1, 0, 1, 3, 5, 7]\n",
      "[-4, -3, -2, -1, 0, 1, 2, 3, 4]\n",
      "[4, 3, 2, 1, 0, -1, -2, -3, -4]\n"
     ]
    }
   ],
   "source": [
    "# Exercise 2 Code\n",
    "print(num_list[0]+num_list[6])\n",
    "num_list.append(7)\n",
    "print(num_list)\n",
    "num_list.insert(0,\"-7\")\n",
    "print(num_list)\n",
    "num_list=[-4, -3, -2, -1, 0, 1, 2, 3, 4]\n",
    "print(num_list)\n",
    "num_list.reverse()\n",
    "print(num_list)"
   ]
  },
  {
   "cell_type": "markdown",
   "id": "6e513b5b",
   "metadata": {},
   "source": [
    "#### .reverse() reverses the order of the elements in a given list"
   ]
  },
  {
   "cell_type": "markdown",
   "id": "89dc2473a4e17740",
   "metadata": {},
   "source": [
    "### Response to Exercise 2.5"
   ]
  },
  {
   "cell_type": "markdown",
   "id": "47726a8961d2a436",
   "metadata": {},
   "source": [
    "## Exercise 3 -- Dictonaries\n",
    "First, define a dictonary called `my_dict`. It should contain four keys:\n",
    "- \"name\"\n",
    "- \"major\"\n",
    "- \"favorite artist\"\n",
    "- \"favorite food\"\n",
    "\n",
    "Fill out the values to match your name, major, etc.\n",
    "\n",
    "Using `my_dict` and string formatting, print a sentence in the cell below that says who you are, what your major is, your favorite artist, and your favorite food."
   ]
  },
  {
   "cell_type": "code",
   "execution_count": 3,
   "id": "e61e388fab247657",
   "metadata": {},
   "outputs": [
    {
     "name": "stdout",
     "output_type": "stream",
     "text": [
      "I am Andrew Lim, I major in Business Analytics. My favourite artist is Architects and my favourite food is Steak.\n"
     ]
    }
   ],
   "source": [
    "# Exercise 3 Code\n",
    "my_dict = {\"name\":'Andrew Lim', \"major\":'Business Analytics', \"favourite artist\":\"Architects\", \"favourite food\":\"Steak\"}\n",
    "print(f'I am {my_dict[\"name\"]}, I major in {my_dict[\"major\"]}. My favourite artist is {my_dict[\"favourite artist\"]} and my favourite food is {my_dict[\"favourite food\"]}.')"
   ]
  },
  {
   "cell_type": "markdown",
   "id": "8476f31e2c9c2da7",
   "metadata": {},
   "source": [
    "## Exercise 4 -- Type Conversion\n",
    "We can use functions like `int()`, `float()`, and `str()` to convert from one type into another. Use them to complete the following tasks:\n",
    "1. Define a variable called `revenue` that is equal to price times quanitity. You can only use the strings that are already defined, the conversion functions above, and the `*` operator. \n",
    "2. Use `str()` to convert `revenue` into a string with a dollar sign in fron. Call this new variable `revenue_string` and print it. \n",
    "\n",
    "\n",
    "**Hint:** How can you remove the dollar sign before conversion?\n"
   ]
  },
  {
   "cell_type": "code",
   "execution_count": 4,
   "id": "c0fe320082e8d0dd",
   "metadata": {},
   "outputs": [
    {
     "name": "stdout",
     "output_type": "stream",
     "text": [
      "75.0\n",
      "$75.0\n"
     ]
    }
   ],
   "source": [
    "# Exercise 4 Code\n",
    "price_string  = \"$7.50\" # don't edit\n",
    "quantity_string = \"10\" # don't edit\n",
    "\n",
    "# your code here\n",
    "price_float = float(price_string.replace(\"$\", \"\"))\n",
    "quantity_float=float(quantity_string)\n",
    "revenue=price_float*quantity_float\n",
    "revenue_string= \"$\" + str(revenue)\n",
    "print(revenue)\n",
    "print(revenue_string)"
   ]
  },
  {
   "cell_type": "markdown",
   "id": "9571d4b7f5224303",
   "metadata": {},
   "source": [
    "## Exercise 5 -- Modules and Very Basic Plotting\n",
    "Complete the following steps in the cells below:\n",
    "1. Import the `math` module and give it an alias of `mt`.\n",
    "2. Import the `matplotlib.pyplot` module and give it an alias of `plt`.\n",
    "3. Create a variable named `num_range` and set it equal to a range of numbers from 0 to 1000 (including 1000).\n",
    "4. Using `num_range` and a list comprehension, create a list called `sine_list` that is equal to `sin((pi/100) * x)` for every `x` in the range `num_range`. (**Hint:** sin and pi are objects from the math library.)\n",
    "5. Finally, using `plt`, `num_range`, and `sine_list`, generate a line plot. "
   ]
  },
  {
   "cell_type": "code",
   "execution_count": 5,
   "id": "d8495aeebf9b755f",
   "metadata": {},
   "outputs": [
    {
     "name": "stdout",
     "output_type": "stream",
     "text": [
      "range(0, 1001)\n"
     ]
    }
   ],
   "source": [
    "# Exercise 5 Code\n",
    "import math as mt\n",
    "import matplotlib.pyplot as plt\n",
    "num_range = range(0,1001)\n",
    "print(num_range)"
   ]
  },
  {
   "cell_type": "code",
   "execution_count": 10,
   "id": "329bdb885f4a56c",
   "metadata": {},
   "outputs": [
    {
     "data": {
      "image/png": "[encoded data removed]",
      "text/plain": [
       "<Figure size 432x288 with 1 Axes>"
      ]
     },
     "metadata": {
      "needs_background": "light"
     },
     "output_type": "display_data"
    }
   ],
   "source": [
    "sine_list = [mt.sin((mt.pi/100)*x) for x in num_range]\n",
    "\n",
    "plt.plot(num_range, sine_list)\n",
    "plt.title('Sine Line Plot')\n",
    "plt.xlabel('Number Range')\n",
    "plt.ylabel('Sine List')\n",
    "plt.grid(True)\n",
    "plt.show()"
   ]
  },
  {
   "cell_type": "code",
   "execution_count": null,
   "id": "5d0e425d",
   "metadata": {},
   "outputs": [],
   "source": []
  }
 ],
 "metadata": {
  "kernelspec": {
   "display_name": "Python 3 (ipykernel)",
   "language": "python",
   "name": "python3"
  },
  "language_info": {
   "codemirror_mode": {
    "name": "ipython",
    "version": 3
   },
   "file_extension": ".py",
   "mimetype": "text/x-python",
   "name": "python",
   "nbconvert_exporter": "python",
   "pygments_lexer": "ipython3",
   "version": "3.9.12"
  }
 },
 "nbformat": 4,
 "nbformat_minor": 5
}
